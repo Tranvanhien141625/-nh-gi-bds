{
  "cells": [
    {
      "cell_type": "markdown",
      "metadata": {
        "id": "view-in-github",
        "colab_type": "text"
      },
      "source": [
        "<a href=\"https://colab.research.google.com/github/Tranvanhien141625/BDS/blob/main/Randomforest_HN-Grid.ipynb\" target=\"_parent\"><img src=\"https://colab.research.google.com/assets/colab-badge.svg\" alt=\"Open In Colab\"/></a>"
      ]
    },
    {
      "cell_type": "code",
      "execution_count": null,
      "metadata": {
        "colab": {
          "background_save": true
        },
        "id": "q3EKCGRjmks9",
        "outputId": "5025fff3-dd90-4c71-ad60-a9f8805d20e4"
      },
      "outputs": [
        {
          "name": "stdout",
          "output_type": "stream",
          "text": [
            "Mounted at /content/gdrive\n"
          ]
        }
      ],
      "source": [
        "from google.colab import drive\n",
        "drive.mount( '/content/gdrive' )\n"
      ]
    },
    {
      "cell_type": "code",
      "execution_count": null,
      "metadata": {
        "id": "5yrcoX5WoHKl"
      },
      "outputs": [],
      "source": [
        "!pip install pyspark==3.0.1 py4j==0.10.9\n",
        "8"
      ]
    },
    {
      "cell_type": "code",
      "execution_count": null,
      "metadata": {
        "id": "Hl05UVmAoD8T"
      },
      "outputs": [],
      "source": [
        "from pyspark.sql import SparkSession\n",
        "spark = SparkSession.builder.master(\"local[*]\").appName('train').getOrCreate()\n"
      ]
    },
    {
      "cell_type": "code",
      "execution_count": null,
      "metadata": {
        "id": "CaM845yGn73C"
      },
      "outputs": [],
      "source": [
        "#data  =  spark.read.csv('/content/gdrive/MyDrive/VN_housing_dataset.csv', sep= ',',header=True ,inferSchema = True)\n"
      ]
    },
    {
      "cell_type": "code",
      "execution_count": null,
      "metadata": {
        "id": "UyORpzADsL_O"
      },
      "outputs": [],
      "source": [
        "#data.head(3)"
      ]
    },
    {
      "cell_type": "code",
      "execution_count": null,
      "metadata": {
        "id": "q5Yf82nTsmqC"
      },
      "outputs": [],
      "source": [
        "#data.printSchema()"
      ]
    },
    {
      "cell_type": "code",
      "execution_count": null,
      "metadata": {
        "id": "WA5dQBO3oY2w"
      },
      "outputs": [],
      "source": [
        "#data.show()\n"
      ]
    },
    {
      "cell_type": "code",
      "execution_count": null,
      "metadata": {
        "id": "JvwRjSK4oO1p"
      },
      "outputs": [],
      "source": [
        "import pandas as pd\n",
        "import seaborn as sns\n",
        "import matplotlib.pyplot as plt"
      ]
    },
    {
      "cell_type": "code",
      "execution_count": null,
      "metadata": {
        "id": "b-RHeTQEpHk9"
      },
      "outputs": [],
      "source": [
        "train_file_path = \"/content/gdrive/MyDrive/VN_housing_dataset.csv\"\n",
        "dataset_df = pd.read_csv(train_file_path)\n",
        "print(\"Full train dataset shape is {}\".format(dataset_df.shape))"
      ]
    },
    {
      "cell_type": "code",
      "execution_count": null,
      "metadata": {
        "id": "tS-JqAv_js51"
      },
      "outputs": [],
      "source": [
        "dataset_df"
      ]
    },
    {
      "cell_type": "code",
      "execution_count": null,
      "metadata": {
        "id": "MOhM5MB_v82s"
      },
      "outputs": [],
      "source": [
        "dataset_df = dataset_df.drop('Unnamed: 0', axis=1)\n",
        "dataset_df.head(100)"
      ]
    },
    {
      "cell_type": "markdown",
      "metadata": {
        "id": "sgqVTO9omAhH"
      },
      "source": [
        "\n",
        "\n",
        "```\n",
        "# Định dạng của đoạn này là mã`\n",
        "```\n",
        "\n",
        "Xóa ký tự toán học và chú thích sau số."
      ]
    },
    {
      "cell_type": "code",
      "execution_count": null,
      "metadata": {
        "id": "qKI5ebOv2TxT"
      },
      "outputs": [],
      "source": [
        "#for index, value in dataset_df['Giá/m2'].items():\n",
        "#    try:\n",
        "#        converted_value = float(value)\n",
        "#    except ValueError:\n",
        "#        print(f\"Lỗi chuyển đổi kiểu dữ liệu tại dòng {index}: {value}\")\n"
      ]
    },
    {
      "cell_type": "code",
      "execution_count": null,
      "metadata": {
        "id": "igRxW6iF0tdf"
      },
      "outputs": [],
      "source": [
        "dataset_df=dataset_df.drop(52317, axis=0, inplace=False)\n",
        "dataset_df=dataset_df.drop(55653, axis=0, inplace=False)\n",
        "dataset_df=dataset_df.drop(58003, axis=0, inplace=False)\n",
        "dataset_df=dataset_df.drop(63, axis=0, inplace=False)\n",
        "\n"
      ]
    },
    {
      "cell_type": "code",
      "execution_count": null,
      "metadata": {
        "id": "_X1z06f2lUFO"
      },
      "outputs": [],
      "source": [
        "\n",
        "dataset_df['Giá/m2'] = dataset_df['Giá/m2'].replace(to_replace=',', value='.', regex=True)\n",
        "dataset_df['Giá/m2'] = dataset_df['Giá/m2'].replace('[^\\d.]', '', regex=True).astype(float)\n",
        "\n",
        "dataset_df['Dài'] = dataset_df['Dài'].replace('[^\\d.]', '', regex=True)\n",
        "dataset_df['Dài'] = dataset_df['Dài'].replace('[^\\d.]', '', regex=True).astype(float)\n",
        "\n",
        "dataset_df['Rộng'] = dataset_df['Rộng'].replace('[^\\d.]', '', regex=True)\n",
        "dataset_df['Rộng'] = dataset_df['Rộng'].replace('[^\\d.]', '', regex=True).astype(float)\n",
        "\n",
        "dataset_df['Số phòng ngủ'] = dataset_df['Số phòng ngủ'].replace('[^\\d.]', '', regex=True)\n",
        "dataset_df['Số phòng ngủ'] = dataset_df['Số phòng ngủ'].replace('[^\\d.]', '', regex=True).astype(float)\n",
        "\n",
        "dataset_df['Diện tích'] = dataset_df['Diện tích'].replace('[^\\d.]', '', regex=True)\n",
        "dataset_df['Diện tích'] = dataset_df['Diện tích'].replace('[^\\d.]', '', regex=True).astype(float)\n",
        "\n",
        "\n",
        "\n",
        "dataset_df = dataset_df.rename(columns={'Địa chỉ': 'Dia_chi'})\n",
        "dataset_df = dataset_df.rename(columns={'Loại hình nhà ở': 'Loai_nha'})\n",
        "dataset_df = dataset_df.rename(columns={'Giấy tờ pháp lý': 'Giay_to'})\n",
        "dataset_df = dataset_df.rename(columns={'Số tầng': 'So_tang'})\n",
        "dataset_df = dataset_df.rename(columns={'Số phòng ngủ': 'So_phong'})\n",
        "dataset_df = dataset_df.rename(columns={'Diện tích': 'Dien_tich'})\n",
        "\n",
        "\n",
        "\n"
      ]
    },
    {
      "cell_type": "code",
      "execution_count": null,
      "metadata": {
        "id": "V7oNdRTIRLTW"
      },
      "outputs": [],
      "source": [
        "dataset_df=dataset_df.dropna()"
      ]
    },
    {
      "cell_type": "code",
      "execution_count": null,
      "metadata": {
        "id": "_r_nJsDqcuWQ"
      },
      "outputs": [],
      "source": [
        "dataset_df.head()"
      ]
    },
    {
      "cell_type": "code",
      "execution_count": null,
      "metadata": {
        "id": "JW7cVvdNWT6g"
      },
      "outputs": [],
      "source": [
        "dataset_df.describe()\n"
      ]
    },
    {
      "cell_type": "code",
      "execution_count": null,
      "metadata": {
        "id": "xv6UC0-yTzWo"
      },
      "outputs": [],
      "source": [
        "dataset_df.head(10)\n"
      ]
    },
    {
      "cell_type": "code",
      "execution_count": null,
      "metadata": {
        "id": "E8xZsJpKtSmv"
      },
      "outputs": [],
      "source": [
        "print(dataset_df['Giá/m2'].describe())\n",
        "plt.figure(figsize=(9, 8))\n",
        "sns.distplot(dataset_df['Giá/m2'], color='g', bins=10, hist_kws={'alpha': 0.4});"
      ]
    },
    {
      "cell_type": "code",
      "execution_count": null,
      "metadata": {
        "id": "jDqMBYmy6JIm"
      },
      "outputs": [],
      "source": [
        "list(set(dataset_df.dtypes.tolist()))"
      ]
    },
    {
      "cell_type": "code",
      "execution_count": null,
      "metadata": {
        "id": "i9lgTZWC6PJl"
      },
      "outputs": [],
      "source": [
        "df_num = dataset_df.select_dtypes(include = ['float64', 'int64'])\n",
        "df_num.head()"
      ]
    },
    {
      "cell_type": "code",
      "execution_count": null,
      "metadata": {
        "id": "Gfwhr-cm677X"
      },
      "outputs": [],
      "source": [
        "df_num.hist(figsize=(16, 20), bins=10, xlabelsize=8, ylabelsize=8);"
      ]
    },
    {
      "cell_type": "code",
      "execution_count": null,
      "metadata": {
        "id": "TWs8p2yQvTH_"
      },
      "outputs": [],
      "source": [
        "y = dataset_df['Giá/m2']\n",
        "X = dataset_df.drop([\"Giá/m2\"], axis=1)\n",
        "X = dataset_df.drop([\"Ngày\"], axis=1)"
      ]
    },
    {
      "cell_type": "code",
      "execution_count": null,
      "metadata": {
        "id": "v4661rYc8Cgo"
      },
      "outputs": [],
      "source": [
        "\n",
        "\n",
        "from sklearn.model_selection import train_test_split\n",
        "X_train, X_val, y_train, y_val = train_test_split(X,y,train_size=0.8, random_state=0)"
      ]
    },
    {
      "cell_type": "code",
      "execution_count": null,
      "metadata": {
        "id": "iN9iM78IvhTQ"
      },
      "outputs": [],
      "source": [
        "# categorical_cols=[cname for cname in X_train.columns\n",
        "#                   if X_train[cname].nunique()<10 and X_train[cname].dtype == \"object\"]"
      ]
    },
    {
      "cell_type": "code",
      "execution_count": null,
      "metadata": {
        "id": "lk9gw_DCrnFm"
      },
      "outputs": [],
      "source": [
        "# numerical_cols=[cname for cname in X_train.columns\n",
        "#                  if X_train[cname].dtype in [\"int64\", \"float64\"]]\n"
      ]
    },
    {
      "cell_type": "code",
      "execution_count": null,
      "metadata": {
        "id": "cQkAacrydtwv"
      },
      "outputs": [],
      "source": [
        "X_train.head()"
      ]
    },
    {
      "cell_type": "code",
      "execution_count": null,
      "metadata": {
        "id": "OCBzQ67mAkeF"
      },
      "outputs": [],
      "source": [
        "numerical_cols=['Dien_tich','Dài','Rộng']\n",
        "categorical_cols=['Dia_chi','Quận','Huyện','Loai_nha','Giay_to',]"
      ]
    },
    {
      "cell_type": "code",
      "execution_count": null,
      "metadata": {
        "id": "ltl_jm5grpV9"
      },
      "outputs": [],
      "source": [
        "print(\"The number of categorical columns: \", len(categorical_cols))\n",
        "print(\"The number of numerical columns: \", len(numerical_cols))"
      ]
    },
    {
      "cell_type": "code",
      "execution_count": null,
      "metadata": {
        "id": "rhdRHfz6rrjL"
      },
      "outputs": [],
      "source": [
        "my_cols=categorical_cols+numerical_cols\n",
        "X_train = X_train[my_cols]\n",
        "X_val = X_val[my_cols]\n"
      ]
    },
    {
      "cell_type": "code",
      "execution_count": null,
      "metadata": {
        "id": "pPfIAC1tsG_1"
      },
      "outputs": [],
      "source": [
        "from sklearn.pipeline import Pipeline\n",
        "from sklearn.impute import SimpleImputer\n",
        "from sklearn.preprocessing import StandardScaler\n",
        "from sklearn.preprocessing import OneHotEncoder\n",
        "from sklearn.compose import ColumnTransformer"
      ]
    },
    {
      "cell_type": "code",
      "execution_count": null,
      "metadata": {
        "id": "6jXgip86sKPd"
      },
      "outputs": [],
      "source": [
        "numerical_transformer = Pipeline(steps=[\n",
        "    (\"imputer_num\", SimpleImputer(strategy=\"median\")),\n",
        "    (\"scaler\", StandardScaler())\n",
        "])"
      ]
    },
    {
      "cell_type": "code",
      "execution_count": null,
      "metadata": {
        "id": "okz_l7j2sMX4"
      },
      "outputs": [],
      "source": [
        "categorical_transformer = Pipeline(steps = [\n",
        "    (\"imputer_cal\", SimpleImputer(strategy=\"most_frequent\")),\n",
        "    (\"onehot\", LabelEncoder(handle_unknown=\"ignore\"))\n",
        "])"
      ]
    },
    {
      "cell_type": "code",
      "execution_count": null,
      "metadata": {
        "id": "2lipm6xHsOaX"
      },
      "outputs": [],
      "source": [
        "preprocessor = ColumnTransformer(transformers=[\n",
        "    (\"num\", numerical_transformer, numerical_cols),\n",
        "    (\"cat\", categorical_transformer, categorical_cols)\n",
        "])"
      ]
    },
    {
      "cell_type": "code",
      "execution_count": null,
      "metadata": {
        "id": "rR3xDmOpsQ0h"
      },
      "outputs": [],
      "source": [
        "from sklearn.ensemble import RandomForestRegressor\n",
        "rf = RandomForestRegressor(random_state=0)"
      ]
    },
    {
      "cell_type": "code",
      "execution_count": null,
      "metadata": {
        "id": "ZOjEToiYsTCs"
      },
      "outputs": [],
      "source": [
        "my_pipeline = Pipeline(steps=[ (\"preprocessor\", preprocessor),(\"model\", rf)])"
      ]
    },
    {
      "cell_type": "code",
      "execution_count": null,
      "metadata": {
        "id": "_FGpbu7gsVJ3"
      },
      "outputs": [],
      "source": [
        "my_pipeline.fit(X_train, y_train)"
      ]
    },
    {
      "cell_type": "code",
      "execution_count": null,
      "metadata": {
        "id": "getc5F8ssbnJ"
      },
      "outputs": [],
      "source": [
        "val_preds = my_pipeline.predict(X_val)"
      ]
    },
    {
      "cell_type": "code",
      "execution_count": null,
      "metadata": {
        "id": "IMEh1-e_sfwR"
      },
      "outputs": [],
      "source": [
        "from sklearn.metrics import mean_absolute_error\n",
        "print(\"Validation MAE: \", mean_absolute_error(y_val, val_preds))"
      ]
    },
    {
      "cell_type": "code",
      "execution_count": null,
      "metadata": {
        "colab": {
          "background_save": true
        },
        "id": "ppgJMID2s3mE",
        "outputId": "f7fd393d-5805-4c75-b885-c641f49ceb5c"
      },
      "outputs": [
        {
          "name": "stdout",
          "output_type": "stream",
          "text": [
            "Mean Cross Validation Score:  29.600208889042655\n"
          ]
        }
      ],
      "source": [
        "from sklearn.model_selection import cross_val_score\n",
        "scores = -1 * cross_val_score(my_pipeline, X,y, cv = 5, scoring=\"neg_mean_absolute_error\")\n",
        "print(\"Mean Cross Validation Score: \", scores.mean())"
      ]
    },
    {
      "cell_type": "markdown",
      "metadata": {
        "id": "wshAq1qP-Nio"
      },
      "source": [
        "Tạo lưới"
      ]
    },
    {
      "cell_type": "code",
      "execution_count": null,
      "metadata": {
        "id": "tcXwo9A2B5Fu"
      },
      "outputs": [],
      "source": [
        "from sklearn.model_selection import GridSearchCV\n",
        "param_grid = {\n",
        "    'model__n_estimators': [250],\n",
        "    'model__max_features': ['auto','sqrt','log2'],\n",
        "    'model__max_depth' : [5],\n",
        "    'model__criterion' :['absolute_error']}\n",
        "GridCV = GridSearchCV(my_pipeline, param_grid, n_jobs= -1)\n",
        "GridCV.fit(X_train,y_train)\n",
        "print(GridCV.best_params_)\n",
        "print(GridCV.best_score_)"
      ]
    },
    {
      "cell_type": "markdown",
      "metadata": {
        "id": "W4_D0uFe-PzR"
      },
      "source": [
        "Tạo lưới kết hợp các cách chuẩn hóa khác nhau."
      ]
    },
    {
      "cell_type": "code",
      "execution_count": null,
      "metadata": {
        "id": "MKhd23ASLX4-"
      },
      "outputs": [],
      "source": [
        "# from sklearn.model_selection import GridSearchCV\n",
        "# from sklearn.preprocessing import LabelEncoder, OrdinalEncoder\n",
        "# from sklearn.preprocessing import MinMaxScaler, RobustScaler, Normalizer\n",
        "# from sklearn.preprocessing import OneHotEncoder\n",
        "\n",
        "\n",
        "# #strategies_categorical = ['labelencoder', 'ordinalencoder', 'binaryencoder','onehotencoder']\n",
        "# #strategies_numerical = ['minmaxscaler', 'robustscaler', 'normalizer']\n",
        "\n",
        "# strategies_categorical = ['OneHotEncoder']\n",
        "# strategies_numerical = [ 'normalizer','robustscaler']\n",
        "\n",
        "# best_params_score=[]\n",
        "\n",
        "\n",
        "# # Tạo bước tiền xử lý cho dữ liệu phân loại và số\n",
        "# for strategy_cate in strategies_categorical:\n",
        "#   for strategy_numer in strategies_numerical:\n",
        "#     if (strategy_cate == 'OneHotEncoder')&(strategy_numer=='minmaxscaler'):\n",
        "#       categorical_transformer = Pipeline(steps = [\n",
        "#           (\"imputer_cal\", SimpleImputer(strategy=\"most_frequent\")),\n",
        "#           (\"onehot\", OneHotEncoder(handle_unknown=\"ignore\"))\n",
        "#       ])\n",
        "\n",
        "#       numerical_transformer = Pipeline(steps=[\n",
        "#             (\"imputer_num\", SimpleImputer(strategy=\"median\")),\n",
        "#             (\"scaler\", MinMaxScaler())\n",
        "#         ])\n",
        "\n",
        "\n",
        "\n",
        "#     if (strategy_cate == 'OneHotEncoder')&(strategy_numer=='normalizer'):\n",
        "#       categorical_transformer = Pipeline(steps = [\n",
        "#           (\"imputer_cal\", SimpleImputer(strategy=\"most_frequent\")),\n",
        "#           (\"onehot\", OneHotEncoder(handle_unknown=\"ignore\"))\n",
        "#       ])\n",
        "#       numerical_transformer= Pipeline(steps=[\n",
        "#             (\"imputer_num\", SimpleImputer(strategy=\"median\")),\n",
        "#             (\"scaler\", Normalizer())\n",
        "#         ])\n",
        "#     preprocessor = ColumnTransformer(transformers=[\n",
        "#       (\"num\", numerical_transformer, numerical_cols),\n",
        "#       (\"cat\", categorical_transformer, categorical_cols)\n",
        "#         ])\n",
        "#     my_pipeline = Pipeline(steps=[ (\"preprocessor\", preprocessor),(\"model\", rf)])\n",
        "\n",
        "\n",
        "#     param_grid = {\n",
        "#         'model__n_estimators': [250],\n",
        "#         'model__max_features': ['sqrt'],\n",
        "#         'model__max_depth' : [4,5],\n",
        "#         'model__criterion' :['absolute_error']}\n",
        "#     GridCV = GridSearchCV(my_pipeline, param_grid, n_jobs= -1)\n",
        "#     GridCV.fit(X_train,y_train)\n",
        "\n",
        "#     best_params_score.append([str(GridCV.best_params_),GridCV.best_score_])\n",
        "\n",
        "\n",
        "\n",
        "\n",
        "\n"
      ]
    },
    {
      "cell_type": "code",
      "execution_count": null,
      "metadata": {
        "id": "ghj0dyVLpUYI"
      },
      "outputs": [],
      "source": [
        " best_params_score"
      ]
    }
  ],
  "metadata": {
    "accelerator": "GPU",
    "colab": {
      "provenance": [],
      "authorship_tag": "ABX9TyMq1HrWZzXr5616t6BkL7ik",
      "include_colab_link": true
    },
    "kernelspec": {
      "display_name": "Python 3",
      "name": "python3"
    },
    "language_info": {
      "name": "python"
    }
  },
  "nbformat": 4,
  "nbformat_minor": 0
}