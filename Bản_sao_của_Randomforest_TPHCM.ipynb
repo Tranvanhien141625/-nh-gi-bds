{
  "cells": [
    {
      "cell_type": "code",
      "execution_count": null,
      "metadata": {
        "colab": {
          "base_uri": "https://localhost:8080/"
        },
        "id": "q3EKCGRjmks9",
        "outputId": "d8fe3fd4-e2fc-4d8c-bfb6-fdfc19ac1302"
      },
      "outputs": [
        {
          "output_type": "stream",
          "name": "stdout",
          "text": [
            "Drive already mounted at /content/gdrive; to attempt to forcibly remount, call drive.mount(\"/content/gdrive\", force_remount=True).\n"
          ]
        }
      ],
      "source": [
        "from google.colab import drive\n",
        "drive.mount( '/content/gdrive' )\n"
      ]
    },
    {
      "cell_type": "code",
      "execution_count": null,
      "metadata": {
        "id": "5yrcoX5WoHKl",
        "colab": {
          "base_uri": "https://localhost:8080/"
        },
        "outputId": "6cf6dc90-370b-4761-cf4e-d5614499b61c"
      },
      "outputs": [
        {
          "output_type": "stream",
          "name": "stdout",
          "text": [
            "Requirement already satisfied: pyspark==3.0.1 in /usr/local/lib/python3.10/dist-packages (3.0.1)\n",
            "Requirement already satisfied: py4j==0.10.9 in /usr/local/lib/python3.10/dist-packages (0.10.9)\n"
          ]
        }
      ],
      "source": [
        "!pip install pyspark==3.0.1 py4j==0.10.9\n"
      ]
    },
    {
      "cell_type": "code",
      "execution_count": null,
      "metadata": {
        "id": "Hl05UVmAoD8T"
      },
      "outputs": [],
      "source": [
        "from pyspark.sql import SparkSession\n",
        "spark = SparkSession.builder.master(\"local[*]\").appName('train').getOrCreate()\n"
      ]
    },
    {
      "cell_type": "code",
      "execution_count": null,
      "metadata": {
        "id": "CaM845yGn73C"
      },
      "outputs": [],
      "source": [
        "#data  =  spark.read.csv('/content/gdrive/MyDrive/VN_housing_dataset.csv', sep= ',',header=True ,inferSchema = True)\n"
      ]
    },
    {
      "cell_type": "code",
      "source": [
        "#data.head(3)"
      ],
      "metadata": {
        "id": "UyORpzADsL_O"
      },
      "execution_count": null,
      "outputs": []
    },
    {
      "cell_type": "code",
      "source": [
        "#data.printSchema()"
      ],
      "metadata": {
        "id": "q5Yf82nTsmqC"
      },
      "execution_count": null,
      "outputs": []
    },
    {
      "cell_type": "code",
      "execution_count": null,
      "metadata": {
        "id": "WA5dQBO3oY2w",
        "colab": {
          "base_uri": "https://localhost:8080/",
          "height": 175
        },
        "outputId": "bf0e0e7f-9590-455e-b8af-12a78bd17770"
      },
      "outputs": [
        {
          "output_type": "error",
          "ename": "NameError",
          "evalue": "ignored",
          "traceback": [
            "\u001b[0;31m---------------------------------------------------------------------------\u001b[0m",
            "\u001b[0;31mNameError\u001b[0m                                 Traceback (most recent call last)",
            "\u001b[0;32m<ipython-input-8-1f181bfde225>\u001b[0m in \u001b[0;36m<cell line: 1>\u001b[0;34m()\u001b[0m\n\u001b[0;32m----> 1\u001b[0;31m \u001b[0mdata\u001b[0m\u001b[0;34m.\u001b[0m\u001b[0mshow\u001b[0m\u001b[0;34m(\u001b[0m\u001b[0;34m)\u001b[0m\u001b[0;34m\u001b[0m\u001b[0;34m\u001b[0m\u001b[0m\n\u001b[0m",
            "\u001b[0;31mNameError\u001b[0m: name 'data' is not defined"
          ]
        }
      ],
      "source": [
        "data.show()\n"
      ]
    },
    {
      "cell_type": "code",
      "source": [
        "import tensorflow as tf\n",
        "!pip install tensorflow_decision_forests\n",
        "import tensorflow_decision_forests as tfdf"
      ],
      "metadata": {
        "colab": {
          "base_uri": "https://localhost:8080/"
        },
        "id": "Cq5k60mLlxIC",
        "outputId": "235532e3-25fe-4475-e371-366842d85067"
      },
      "execution_count": null,
      "outputs": [
        {
          "output_type": "stream",
          "name": "stdout",
          "text": [
            "Requirement already satisfied: tensorflow_decision_forests in /usr/local/lib/python3.10/dist-packages (1.6.0)\n",
            "Requirement already satisfied: numpy in /usr/local/lib/python3.10/dist-packages (from tensorflow_decision_forests) (1.23.5)\n",
            "Requirement already satisfied: pandas in /usr/local/lib/python3.10/dist-packages (from tensorflow_decision_forests) (1.5.3)\n",
            "Requirement already satisfied: tensorflow~=2.14.0 in /usr/local/lib/python3.10/dist-packages (from tensorflow_decision_forests) (2.14.0)\n",
            "Requirement already satisfied: six in /usr/local/lib/python3.10/dist-packages (from tensorflow_decision_forests) (1.16.0)\n",
            "Requirement already satisfied: absl-py in /usr/local/lib/python3.10/dist-packages (from tensorflow_decision_forests) (1.4.0)\n",
            "Requirement already satisfied: wheel in /usr/local/lib/python3.10/dist-packages (from tensorflow_decision_forests) (0.41.2)\n",
            "Requirement already satisfied: wurlitzer in /usr/local/lib/python3.10/dist-packages (from tensorflow_decision_forests) (3.0.3)\n",
            "Requirement already satisfied: astunparse>=1.6.0 in /usr/local/lib/python3.10/dist-packages (from tensorflow~=2.14.0->tensorflow_decision_forests) (1.6.3)\n",
            "Requirement already satisfied: flatbuffers>=23.5.26 in /usr/local/lib/python3.10/dist-packages (from tensorflow~=2.14.0->tensorflow_decision_forests) (23.5.26)\n",
            "Requirement already satisfied: gast!=0.5.0,!=0.5.1,!=0.5.2,>=0.2.1 in /usr/local/lib/python3.10/dist-packages (from tensorflow~=2.14.0->tensorflow_decision_forests) (0.4.0)\n",
            "Requirement already satisfied: google-pasta>=0.1.1 in /usr/local/lib/python3.10/dist-packages (from tensorflow~=2.14.0->tensorflow_decision_forests) (0.2.0)\n",
            "Requirement already satisfied: h5py>=2.9.0 in /usr/local/lib/python3.10/dist-packages (from tensorflow~=2.14.0->tensorflow_decision_forests) (3.9.0)\n",
            "Requirement already satisfied: libclang>=13.0.0 in /usr/local/lib/python3.10/dist-packages (from tensorflow~=2.14.0->tensorflow_decision_forests) (16.0.6)\n",
            "Requirement already satisfied: ml-dtypes==0.2.0 in /usr/local/lib/python3.10/dist-packages (from tensorflow~=2.14.0->tensorflow_decision_forests) (0.2.0)\n",
            "Requirement already satisfied: opt-einsum>=2.3.2 in /usr/local/lib/python3.10/dist-packages (from tensorflow~=2.14.0->tensorflow_decision_forests) (3.3.0)\n",
            "Requirement already satisfied: packaging in /usr/local/lib/python3.10/dist-packages (from tensorflow~=2.14.0->tensorflow_decision_forests) (23.2)\n",
            "Requirement already satisfied: protobuf!=4.21.0,!=4.21.1,!=4.21.2,!=4.21.3,!=4.21.4,!=4.21.5,<5.0.0dev,>=3.20.3 in /usr/local/lib/python3.10/dist-packages (from tensorflow~=2.14.0->tensorflow_decision_forests) (3.20.3)\n",
            "Requirement already satisfied: setuptools in /usr/local/lib/python3.10/dist-packages (from tensorflow~=2.14.0->tensorflow_decision_forests) (67.7.2)\n",
            "Requirement already satisfied: termcolor>=1.1.0 in /usr/local/lib/python3.10/dist-packages (from tensorflow~=2.14.0->tensorflow_decision_forests) (2.3.0)\n",
            "Requirement already satisfied: typing-extensions>=3.6.6 in /usr/local/lib/python3.10/dist-packages (from tensorflow~=2.14.0->tensorflow_decision_forests) (4.5.0)\n",
            "Requirement already satisfied: wrapt<1.15,>=1.11.0 in /usr/local/lib/python3.10/dist-packages (from tensorflow~=2.14.0->tensorflow_decision_forests) (1.14.1)\n",
            "Requirement already satisfied: tensorflow-io-gcs-filesystem>=0.23.1 in /usr/local/lib/python3.10/dist-packages (from tensorflow~=2.14.0->tensorflow_decision_forests) (0.34.0)\n",
            "Requirement already satisfied: grpcio<2.0,>=1.24.3 in /usr/local/lib/python3.10/dist-packages (from tensorflow~=2.14.0->tensorflow_decision_forests) (1.59.0)\n",
            "Requirement already satisfied: tensorboard<2.15,>=2.14 in /usr/local/lib/python3.10/dist-packages (from tensorflow~=2.14.0->tensorflow_decision_forests) (2.14.1)\n",
            "Requirement already satisfied: tensorflow-estimator<2.15,>=2.14.0 in /usr/local/lib/python3.10/dist-packages (from tensorflow~=2.14.0->tensorflow_decision_forests) (2.14.0)\n",
            "Requirement already satisfied: keras<2.15,>=2.14.0 in /usr/local/lib/python3.10/dist-packages (from tensorflow~=2.14.0->tensorflow_decision_forests) (2.14.0)\n",
            "Requirement already satisfied: python-dateutil>=2.8.1 in /usr/local/lib/python3.10/dist-packages (from pandas->tensorflow_decision_forests) (2.8.2)\n",
            "Requirement already satisfied: pytz>=2020.1 in /usr/local/lib/python3.10/dist-packages (from pandas->tensorflow_decision_forests) (2023.3.post1)\n",
            "Requirement already satisfied: google-auth<3,>=1.6.3 in /usr/local/lib/python3.10/dist-packages (from tensorboard<2.15,>=2.14->tensorflow~=2.14.0->tensorflow_decision_forests) (2.17.3)\n",
            "Requirement already satisfied: google-auth-oauthlib<1.1,>=0.5 in /usr/local/lib/python3.10/dist-packages (from tensorboard<2.15,>=2.14->tensorflow~=2.14.0->tensorflow_decision_forests) (1.0.0)\n",
            "Requirement already satisfied: markdown>=2.6.8 in /usr/local/lib/python3.10/dist-packages (from tensorboard<2.15,>=2.14->tensorflow~=2.14.0->tensorflow_decision_forests) (3.5)\n",
            "Requirement already satisfied: requests<3,>=2.21.0 in /usr/local/lib/python3.10/dist-packages (from tensorboard<2.15,>=2.14->tensorflow~=2.14.0->tensorflow_decision_forests) (2.31.0)\n",
            "Requirement already satisfied: tensorboard-data-server<0.8.0,>=0.7.0 in /usr/local/lib/python3.10/dist-packages (from tensorboard<2.15,>=2.14->tensorflow~=2.14.0->tensorflow_decision_forests) (0.7.1)\n",
            "Requirement already satisfied: werkzeug>=1.0.1 in /usr/local/lib/python3.10/dist-packages (from tensorboard<2.15,>=2.14->tensorflow~=2.14.0->tensorflow_decision_forests) (3.0.0)\n",
            "Requirement already satisfied: cachetools<6.0,>=2.0.0 in /usr/local/lib/python3.10/dist-packages (from google-auth<3,>=1.6.3->tensorboard<2.15,>=2.14->tensorflow~=2.14.0->tensorflow_decision_forests) (5.3.1)\n",
            "Requirement already satisfied: pyasn1-modules>=0.2.1 in /usr/local/lib/python3.10/dist-packages (from google-auth<3,>=1.6.3->tensorboard<2.15,>=2.14->tensorflow~=2.14.0->tensorflow_decision_forests) (0.3.0)\n",
            "Requirement already satisfied: rsa<5,>=3.1.4 in /usr/local/lib/python3.10/dist-packages (from google-auth<3,>=1.6.3->tensorboard<2.15,>=2.14->tensorflow~=2.14.0->tensorflow_decision_forests) (4.9)\n",
            "Requirement already satisfied: requests-oauthlib>=0.7.0 in /usr/local/lib/python3.10/dist-packages (from google-auth-oauthlib<1.1,>=0.5->tensorboard<2.15,>=2.14->tensorflow~=2.14.0->tensorflow_decision_forests) (1.3.1)\n",
            "Requirement already satisfied: charset-normalizer<4,>=2 in /usr/local/lib/python3.10/dist-packages (from requests<3,>=2.21.0->tensorboard<2.15,>=2.14->tensorflow~=2.14.0->tensorflow_decision_forests) (3.3.0)\n",
            "Requirement already satisfied: idna<4,>=2.5 in /usr/local/lib/python3.10/dist-packages (from requests<3,>=2.21.0->tensorboard<2.15,>=2.14->tensorflow~=2.14.0->tensorflow_decision_forests) (3.4)\n",
            "Requirement already satisfied: urllib3<3,>=1.21.1 in /usr/local/lib/python3.10/dist-packages (from requests<3,>=2.21.0->tensorboard<2.15,>=2.14->tensorflow~=2.14.0->tensorflow_decision_forests) (2.0.6)\n",
            "Requirement already satisfied: certifi>=2017.4.17 in /usr/local/lib/python3.10/dist-packages (from requests<3,>=2.21.0->tensorboard<2.15,>=2.14->tensorflow~=2.14.0->tensorflow_decision_forests) (2023.7.22)\n",
            "Requirement already satisfied: MarkupSafe>=2.1.1 in /usr/local/lib/python3.10/dist-packages (from werkzeug>=1.0.1->tensorboard<2.15,>=2.14->tensorflow~=2.14.0->tensorflow_decision_forests) (2.1.3)\n",
            "Requirement already satisfied: pyasn1<0.6.0,>=0.4.6 in /usr/local/lib/python3.10/dist-packages (from pyasn1-modules>=0.2.1->google-auth<3,>=1.6.3->tensorboard<2.15,>=2.14->tensorflow~=2.14.0->tensorflow_decision_forests) (0.5.0)\n",
            "Requirement already satisfied: oauthlib>=3.0.0 in /usr/local/lib/python3.10/dist-packages (from requests-oauthlib>=0.7.0->google-auth-oauthlib<1.1,>=0.5->tensorboard<2.15,>=2.14->tensorflow~=2.14.0->tensorflow_decision_forests) (3.2.2)\n"
          ]
        }
      ]
    },
    {
      "cell_type": "code",
      "source": [
        "import pandas as pd\n",
        "import seaborn as sns\n",
        "import matplotlib.pyplot as plt"
      ],
      "metadata": {
        "id": "JvwRjSK4oO1p"
      },
      "execution_count": null,
      "outputs": []
    },
    {
      "cell_type": "code",
      "source": [
        "print(\"TensorFlow v\" + tf.__version__)\n",
        "print(\"TensorFlow Decision Forests v\" + tfdf.__version__)"
      ],
      "metadata": {
        "colab": {
          "base_uri": "https://localhost:8080/"
        },
        "id": "sEIxbn2_pEq5",
        "outputId": "02ceb47b-adc8-45d0-f4a7-9cbf5e08820e"
      },
      "execution_count": null,
      "outputs": [
        {
          "output_type": "stream",
          "name": "stdout",
          "text": [
            "TensorFlow v2.14.0\n",
            "TensorFlow Decision Forests v1.6.0\n"
          ]
        }
      ]
    },
    {
      "cell_type": "code",
      "source": [
        "train_file_path = \"/content/gdrive/MyDrive/GiaChungCu_HCM_June2021_laydulieu_com.csv\"\n",
        "dataset_df = pd.read_csv(train_file_path)\n",
        "print(\"Full train dataset shape is {}\".format(dataset_df.shape))"
      ],
      "metadata": {
        "colab": {
          "base_uri": "https://localhost:8080/"
        },
        "id": "b-RHeTQEpHk9",
        "outputId": "f5638602-3a2a-49a8-eeac-08d12a168a01"
      },
      "execution_count": null,
      "outputs": [
        {
          "output_type": "stream",
          "name": "stdout",
          "text": [
            "Full train dataset shape is (1950, 11)\n"
          ]
        }
      ]
    },
    {
      "cell_type": "code",
      "source": [
        "\n",
        "dataset_df = dataset_df.rename(columns={'GIỐNG - LOẠI': 'LOAI'})\n",
        "dataset_df = dataset_df.rename(columns={'GIỐNG - NHU CẦU': 'NHU_CAU'})\n",
        "dataset_df = dataset_df.rename(columns={'GIỐNG - TỈNH THÀNH': 'TINH_THANH'})\n",
        "dataset_df= dataset_df.rename(columns={'GIÁ - TRIỆU ĐỒNG': 'GIA_TRIEU_DONG'})\n",
        "dataset_df= dataset_df.rename(columns={'DIỆN TÍCH - M2': 'DIEN_TICH_M2'})\n",
        "\n",
        "dataset_df =dataset_df.rename(columns={'QUẬN HUYỆN': 'QUAN_HUYEN'})\n",
        "dataset_df =dataset_df.rename(columns={'SỐ TẦNG': 'SO_TANG'})\n",
        "dataset_df= dataset_df.rename(columns={'SỐ PHÒNG': 'SO_PHNG'})\n",
        "dataset_df =dataset_df.rename(columns={'SỐ TOILETS': 'SO_TOILETS'})\n",
        "dataset_df= dataset_df.rename(columns={'GIẤY TỜ PHÁP LÝ': 'GIAY_TO_PHAP_LY'})"
      ],
      "metadata": {
        "id": "CO1zt0n6Nvz4"
      },
      "execution_count": null,
      "outputs": []
    },
    {
      "cell_type": "code",
      "source": [
        "dataset_df.head()"
      ],
      "metadata": {
        "colab": {
          "base_uri": "https://localhost:8080/",
          "height": 206
        },
        "id": "OKSlr-cepXvf",
        "outputId": "08f653b7-91a1-4b4d-b1f9-6dec1d27edf5"
      },
      "execution_count": null,
      "outputs": [
        {
          "output_type": "execute_result",
          "data": {
            "text/plain": [
              "               LOAI  NHU_CAU   TINH_THANH     QUAN_HUYEN  GIA_TRIEU_DONG  \\\n",
              "0  Căn hộ, chung cư  Cần bán  Hồ Chí Minh         Quận 9          2650.0   \n",
              "1  Căn hộ, chung cư  Cần bán  Hồ Chí Minh  Quận Tân Bình          3970.0   \n",
              "2  Căn hộ, chung cư  Cần bán  Hồ Chí Minh         Quận 9           678.0   \n",
              "3  Căn hộ, chung cư  Cần bán  Hồ Chí Minh   Quận Tân Phú          2870.0   \n",
              "4  Căn hộ, chung cư  Cần bán  Hồ Chí Minh         Quận 9          3000.0   \n",
              "\n",
              "   DIEN_TICH_M2     HƯỚNG  SO_TANG  SO_PHNG  SO_TOILETS GIAY_TO_PHAP_LY  \n",
              "0          69.0       NaN      NaN      2.0         2.0        Đã có sổ  \n",
              "1          74.1       NaN      NaN      2.0         2.0     Đang chờ sổ  \n",
              "2          46.5       Tây      NaN      1.0         1.0     Đang chờ sổ  \n",
              "3          65.0       NaN      NaN      2.0         2.0             NaN  \n",
              "4          70.0  Đông Bắc      NaN      2.0         2.0        Đã có sổ  "
            ],
            "text/html": [
              "\n",
              "  <div id=\"df-87223089-5a59-459e-903f-f6e76fa70749\" class=\"colab-df-container\">\n",
              "    <div>\n",
              "<style scoped>\n",
              "    .dataframe tbody tr th:only-of-type {\n",
              "        vertical-align: middle;\n",
              "    }\n",
              "\n",
              "    .dataframe tbody tr th {\n",
              "        vertical-align: top;\n",
              "    }\n",
              "\n",
              "    .dataframe thead th {\n",
              "        text-align: right;\n",
              "    }\n",
              "</style>\n",
              "<table border=\"1\" class=\"dataframe\">\n",
              "  <thead>\n",
              "    <tr style=\"text-align: right;\">\n",
              "      <th></th>\n",
              "      <th>LOAI</th>\n",
              "      <th>NHU_CAU</th>\n",
              "      <th>TINH_THANH</th>\n",
              "      <th>QUAN_HUYEN</th>\n",
              "      <th>GIA_TRIEU_DONG</th>\n",
              "      <th>DIEN_TICH_M2</th>\n",
              "      <th>HƯỚNG</th>\n",
              "      <th>SO_TANG</th>\n",
              "      <th>SO_PHNG</th>\n",
              "      <th>SO_TOILETS</th>\n",
              "      <th>GIAY_TO_PHAP_LY</th>\n",
              "    </tr>\n",
              "  </thead>\n",
              "  <tbody>\n",
              "    <tr>\n",
              "      <th>0</th>\n",
              "      <td>Căn hộ, chung cư</td>\n",
              "      <td>Cần bán</td>\n",
              "      <td>Hồ Chí Minh</td>\n",
              "      <td>Quận 9</td>\n",
              "      <td>2650.0</td>\n",
              "      <td>69.0</td>\n",
              "      <td>NaN</td>\n",
              "      <td>NaN</td>\n",
              "      <td>2.0</td>\n",
              "      <td>2.0</td>\n",
              "      <td>Đã có sổ</td>\n",
              "    </tr>\n",
              "    <tr>\n",
              "      <th>1</th>\n",
              "      <td>Căn hộ, chung cư</td>\n",
              "      <td>Cần bán</td>\n",
              "      <td>Hồ Chí Minh</td>\n",
              "      <td>Quận Tân Bình</td>\n",
              "      <td>3970.0</td>\n",
              "      <td>74.1</td>\n",
              "      <td>NaN</td>\n",
              "      <td>NaN</td>\n",
              "      <td>2.0</td>\n",
              "      <td>2.0</td>\n",
              "      <td>Đang chờ sổ</td>\n",
              "    </tr>\n",
              "    <tr>\n",
              "      <th>2</th>\n",
              "      <td>Căn hộ, chung cư</td>\n",
              "      <td>Cần bán</td>\n",
              "      <td>Hồ Chí Minh</td>\n",
              "      <td>Quận 9</td>\n",
              "      <td>678.0</td>\n",
              "      <td>46.5</td>\n",
              "      <td>Tây</td>\n",
              "      <td>NaN</td>\n",
              "      <td>1.0</td>\n",
              "      <td>1.0</td>\n",
              "      <td>Đang chờ sổ</td>\n",
              "    </tr>\n",
              "    <tr>\n",
              "      <th>3</th>\n",
              "      <td>Căn hộ, chung cư</td>\n",
              "      <td>Cần bán</td>\n",
              "      <td>Hồ Chí Minh</td>\n",
              "      <td>Quận Tân Phú</td>\n",
              "      <td>2870.0</td>\n",
              "      <td>65.0</td>\n",
              "      <td>NaN</td>\n",
              "      <td>NaN</td>\n",
              "      <td>2.0</td>\n",
              "      <td>2.0</td>\n",
              "      <td>NaN</td>\n",
              "    </tr>\n",
              "    <tr>\n",
              "      <th>4</th>\n",
              "      <td>Căn hộ, chung cư</td>\n",
              "      <td>Cần bán</td>\n",
              "      <td>Hồ Chí Minh</td>\n",
              "      <td>Quận 9</td>\n",
              "      <td>3000.0</td>\n",
              "      <td>70.0</td>\n",
              "      <td>Đông Bắc</td>\n",
              "      <td>NaN</td>\n",
              "      <td>2.0</td>\n",
              "      <td>2.0</td>\n",
              "      <td>Đã có sổ</td>\n",
              "    </tr>\n",
              "  </tbody>\n",
              "</table>\n",
              "</div>\n",
              "    <div class=\"colab-df-buttons\">\n",
              "\n",
              "  <div class=\"colab-df-container\">\n",
              "    <button class=\"colab-df-convert\" onclick=\"convertToInteractive('df-87223089-5a59-459e-903f-f6e76fa70749')\"\n",
              "            title=\"Convert this dataframe to an interactive table.\"\n",
              "            style=\"display:none;\">\n",
              "\n",
              "  <svg xmlns=\"http://www.w3.org/2000/svg\" height=\"24px\" viewBox=\"0 -960 960 960\">\n",
              "    <path d=\"M120-120v-720h720v720H120Zm60-500h600v-160H180v160Zm220 220h160v-160H400v160Zm0 220h160v-160H400v160ZM180-400h160v-160H180v160Zm440 0h160v-160H620v160ZM180-180h160v-160H180v160Zm440 0h160v-160H620v160Z\"/>\n",
              "  </svg>\n",
              "    </button>\n",
              "\n",
              "  <style>\n",
              "    .colab-df-container {\n",
              "      display:flex;\n",
              "      gap: 12px;\n",
              "    }\n",
              "\n",
              "    .colab-df-convert {\n",
              "      background-color: #E8F0FE;\n",
              "      border: none;\n",
              "      border-radius: 50%;\n",
              "      cursor: pointer;\n",
              "      display: none;\n",
              "      fill: #1967D2;\n",
              "      height: 32px;\n",
              "      padding: 0 0 0 0;\n",
              "      width: 32px;\n",
              "    }\n",
              "\n",
              "    .colab-df-convert:hover {\n",
              "      background-color: #E2EBFA;\n",
              "      box-shadow: 0px 1px 2px rgba(60, 64, 67, 0.3), 0px 1px 3px 1px rgba(60, 64, 67, 0.15);\n",
              "      fill: #174EA6;\n",
              "    }\n",
              "\n",
              "    .colab-df-buttons div {\n",
              "      margin-bottom: 4px;\n",
              "    }\n",
              "\n",
              "    [theme=dark] .colab-df-convert {\n",
              "      background-color: #3B4455;\n",
              "      fill: #D2E3FC;\n",
              "    }\n",
              "\n",
              "    [theme=dark] .colab-df-convert:hover {\n",
              "      background-color: #434B5C;\n",
              "      box-shadow: 0px 1px 3px 1px rgba(0, 0, 0, 0.15);\n",
              "      filter: drop-shadow(0px 1px 2px rgba(0, 0, 0, 0.3));\n",
              "      fill: #FFFFFF;\n",
              "    }\n",
              "  </style>\n",
              "\n",
              "    <script>\n",
              "      const buttonEl =\n",
              "        document.querySelector('#df-87223089-5a59-459e-903f-f6e76fa70749 button.colab-df-convert');\n",
              "      buttonEl.style.display =\n",
              "        google.colab.kernel.accessAllowed ? 'block' : 'none';\n",
              "\n",
              "      async function convertToInteractive(key) {\n",
              "        const element = document.querySelector('#df-87223089-5a59-459e-903f-f6e76fa70749');\n",
              "        const dataTable =\n",
              "          await google.colab.kernel.invokeFunction('convertToInteractive',\n",
              "                                                    [key], {});\n",
              "        if (!dataTable) return;\n",
              "\n",
              "        const docLinkHtml = 'Like what you see? Visit the ' +\n",
              "          '<a target=\"_blank\" href=https://colab.research.google.com/notebooks/data_table.ipynb>data table notebook</a>'\n",
              "          + ' to learn more about interactive tables.';\n",
              "        element.innerHTML = '';\n",
              "        dataTable['output_type'] = 'display_data';\n",
              "        await google.colab.output.renderOutput(dataTable, element);\n",
              "        const docLink = document.createElement('div');\n",
              "        docLink.innerHTML = docLinkHtml;\n",
              "        element.appendChild(docLink);\n",
              "      }\n",
              "    </script>\n",
              "  </div>\n",
              "\n",
              "\n",
              "<div id=\"df-3350d193-f59b-4757-8d3d-38533631fb3a\">\n",
              "  <button class=\"colab-df-quickchart\" onclick=\"quickchart('df-3350d193-f59b-4757-8d3d-38533631fb3a')\"\n",
              "            title=\"Suggest charts.\"\n",
              "            style=\"display:none;\">\n",
              "\n",
              "<svg xmlns=\"http://www.w3.org/2000/svg\" height=\"24px\"viewBox=\"0 0 24 24\"\n",
              "     width=\"24px\">\n",
              "    <g>\n",
              "        <path d=\"M19 3H5c-1.1 0-2 .9-2 2v14c0 1.1.9 2 2 2h14c1.1 0 2-.9 2-2V5c0-1.1-.9-2-2-2zM9 17H7v-7h2v7zm4 0h-2V7h2v10zm4 0h-2v-4h2v4z\"/>\n",
              "    </g>\n",
              "</svg>\n",
              "  </button>\n",
              "\n",
              "<style>\n",
              "  .colab-df-quickchart {\n",
              "      --bg-color: #E8F0FE;\n",
              "      --fill-color: #1967D2;\n",
              "      --hover-bg-color: #E2EBFA;\n",
              "      --hover-fill-color: #174EA6;\n",
              "      --disabled-fill-color: #AAA;\n",
              "      --disabled-bg-color: #DDD;\n",
              "  }\n",
              "\n",
              "  [theme=dark] .colab-df-quickchart {\n",
              "      --bg-color: #3B4455;\n",
              "      --fill-color: #D2E3FC;\n",
              "      --hover-bg-color: #434B5C;\n",
              "      --hover-fill-color: #FFFFFF;\n",
              "      --disabled-bg-color: #3B4455;\n",
              "      --disabled-fill-color: #666;\n",
              "  }\n",
              "\n",
              "  .colab-df-quickchart {\n",
              "    background-color: var(--bg-color);\n",
              "    border: none;\n",
              "    border-radius: 50%;\n",
              "    cursor: pointer;\n",
              "    display: none;\n",
              "    fill: var(--fill-color);\n",
              "    height: 32px;\n",
              "    padding: 0;\n",
              "    width: 32px;\n",
              "  }\n",
              "\n",
              "  .colab-df-quickchart:hover {\n",
              "    background-color: var(--hover-bg-color);\n",
              "    box-shadow: 0 1px 2px rgba(60, 64, 67, 0.3), 0 1px 3px 1px rgba(60, 64, 67, 0.15);\n",
              "    fill: var(--button-hover-fill-color);\n",
              "  }\n",
              "\n",
              "  .colab-df-quickchart-complete:disabled,\n",
              "  .colab-df-quickchart-complete:disabled:hover {\n",
              "    background-color: var(--disabled-bg-color);\n",
              "    fill: var(--disabled-fill-color);\n",
              "    box-shadow: none;\n",
              "  }\n",
              "\n",
              "  .colab-df-spinner {\n",
              "    border: 2px solid var(--fill-color);\n",
              "    border-color: transparent;\n",
              "    border-bottom-color: var(--fill-color);\n",
              "    animation:\n",
              "      spin 1s steps(1) infinite;\n",
              "  }\n",
              "\n",
              "  @keyframes spin {\n",
              "    0% {\n",
              "      border-color: transparent;\n",
              "      border-bottom-color: var(--fill-color);\n",
              "      border-left-color: var(--fill-color);\n",
              "    }\n",
              "    20% {\n",
              "      border-color: transparent;\n",
              "      border-left-color: var(--fill-color);\n",
              "      border-top-color: var(--fill-color);\n",
              "    }\n",
              "    30% {\n",
              "      border-color: transparent;\n",
              "      border-left-color: var(--fill-color);\n",
              "      border-top-color: var(--fill-color);\n",
              "      border-right-color: var(--fill-color);\n",
              "    }\n",
              "    40% {\n",
              "      border-color: transparent;\n",
              "      border-right-color: var(--fill-color);\n",
              "      border-top-color: var(--fill-color);\n",
              "    }\n",
              "    60% {\n",
              "      border-color: transparent;\n",
              "      border-right-color: var(--fill-color);\n",
              "    }\n",
              "    80% {\n",
              "      border-color: transparent;\n",
              "      border-right-color: var(--fill-color);\n",
              "      border-bottom-color: var(--fill-color);\n",
              "    }\n",
              "    90% {\n",
              "      border-color: transparent;\n",
              "      border-bottom-color: var(--fill-color);\n",
              "    }\n",
              "  }\n",
              "</style>\n",
              "\n",
              "  <script>\n",
              "    async function quickchart(key) {\n",
              "      const quickchartButtonEl =\n",
              "        document.querySelector('#' + key + ' button');\n",
              "      quickchartButtonEl.disabled = true;  // To prevent multiple clicks.\n",
              "      quickchartButtonEl.classList.add('colab-df-spinner');\n",
              "      try {\n",
              "        const charts = await google.colab.kernel.invokeFunction(\n",
              "            'suggestCharts', [key], {});\n",
              "      } catch (error) {\n",
              "        console.error('Error during call to suggestCharts:', error);\n",
              "      }\n",
              "      quickchartButtonEl.classList.remove('colab-df-spinner');\n",
              "      quickchartButtonEl.classList.add('colab-df-quickchart-complete');\n",
              "    }\n",
              "    (() => {\n",
              "      let quickchartButtonEl =\n",
              "        document.querySelector('#df-3350d193-f59b-4757-8d3d-38533631fb3a button');\n",
              "      quickchartButtonEl.style.display =\n",
              "        google.colab.kernel.accessAllowed ? 'block' : 'none';\n",
              "    })();\n",
              "  </script>\n",
              "</div>\n",
              "    </div>\n",
              "  </div>\n"
            ]
          },
          "metadata": {},
          "execution_count": 77
        }
      ]
    },
    {
      "cell_type": "code",
      "source": [
        "print(dataset_df['GIA_TRIEU_DONG'].describe())\n",
        "plt.figure(figsize=(9, 8))\n",
        "sns.distplot(dataset_df['GIA_TRIEU_DONG'], color='g', bins=100, hist_kws={'alpha': 0.4});"
      ],
      "metadata": {
        "colab": {
          "base_uri": "https://localhost:8080/",
          "height": 1000
        },
        "id": "E8xZsJpKtSmv",
        "outputId": "b640f904-d202-4e8d-ddeb-9f37a07c43af"
      },
      "execution_count": null,
      "outputs": [
        {
          "output_type": "stream",
          "name": "stdout",
          "text": [
            "count      1950.000000\n",
            "mean       3261.196558\n",
            "std        5280.514953\n",
            "min         100.000000\n",
            "25%        1790.000000\n",
            "50%        2400.000000\n",
            "75%        3450.000000\n",
            "max      150000.000000\n",
            "Name: GIA_TRIEU_DONG, dtype: float64\n"
          ]
        },
        {
          "output_type": "stream",
          "name": "stderr",
          "text": [
            "<ipython-input-78-f063b0d9ea25>:3: UserWarning: \n",
            "\n",
            "`distplot` is a deprecated function and will be removed in seaborn v0.14.0.\n",
            "\n",
            "Please adapt your code to use either `displot` (a figure-level function with\n",
            "similar flexibility) or `histplot` (an axes-level function for histograms).\n",
            "\n",
            "For a guide to updating your code to use the new functions, please see\n",
            "https://gist.github.com/mwaskom/de44147ed2974457ad6372750bbe5751\n",
            "\n",
            "  sns.distplot(dataset_df['GIA_TRIEU_DONG'], color='g', bins=100, hist_kws={'alpha': 0.4});\n"
          ]
        },
        {
          "output_type": "display_data",
          "data": {
            "text/plain": [
              "<Figure size 900x800 with 1 Axes>"
            ],
            "image/png": "[encoded data removed]"
          },
          "metadata": {}
        }
      ]
    },
    {
      "cell_type": "code",
      "source": [
        "list(set(dataset_df.dtypes.tolist()))"
      ],
      "metadata": {
        "colab": {
          "base_uri": "https://localhost:8080/"
        },
        "id": "jDqMBYmy6JIm",
        "outputId": "9e02e1d6-3732-4e52-a56a-8b70cf6f2d93"
      },
      "execution_count": null,
      "outputs": [
        {
          "output_type": "execute_result",
          "data": {
            "text/plain": [
              "[dtype('O'), dtype('float64')]"
            ]
          },
          "metadata": {},
          "execution_count": 79
        }
      ]
    },
    {
      "cell_type": "code",
      "source": [
        "df_num = dataset_df.select_dtypes(include = ['float64', 'int64'])\n",
        "df_num.head()"
      ],
      "metadata": {
        "colab": {
          "base_uri": "https://localhost:8080/",
          "height": 206
        },
        "id": "i9lgTZWC6PJl",
        "outputId": "326037b6-ebdb-41e9-a6c7-8268cdf88aca"
      },
      "execution_count": null,
      "outputs": [
        {
          "output_type": "execute_result",
          "data": {
            "text/plain": [
              "   GIA_TRIEU_DONG  DIEN_TICH_M2  SO_TANG  SO_PHNG  SO_TOILETS\n",
              "0          2650.0          69.0      NaN      2.0         2.0\n",
              "1          3970.0          74.1      NaN      2.0         2.0\n",
              "2           678.0          46.5      NaN      1.0         1.0\n",
              "3          2870.0          65.0      NaN      2.0         2.0\n",
              "4          3000.0          70.0      NaN      2.0         2.0"
            ],
            "text/html": [
              "\n",
              "  <div id=\"df-539d6b35-1f81-4d6c-95dc-82eb6a786f3e\" class=\"colab-df-container\">\n",
              "    <div>\n",
              "<style scoped>\n",
              "    .dataframe tbody tr th:only-of-type {\n",
              "        vertical-align: middle;\n",
              "    }\n",
              "\n",
              "    .dataframe tbody tr th {\n",
              "        vertical-align: top;\n",
              "    }\n",
              "\n",
              "    .dataframe thead th {\n",
              "        text-align: right;\n",
              "    }\n",
              "</style>\n",
              "<table border=\"1\" class=\"dataframe\">\n",
              "  <thead>\n",
              "    <tr style=\"text-align: right;\">\n",
              "      <th></th>\n",
              "      <th>GIA_TRIEU_DONG</th>\n",
              "      <th>DIEN_TICH_M2</th>\n",
              "      <th>SO_TANG</th>\n",
              "      <th>SO_PHNG</th>\n",
              "      <th>SO_TOILETS</th>\n",
              "    </tr>\n",
              "  </thead>\n",
              "  <tbody>\n",
              "    <tr>\n",
              "      <th>0</th>\n",
              "      <td>2650.0</td>\n",
              "      <td>69.0</td>\n",
              "      <td>NaN</td>\n",
              "      <td>2.0</td>\n",
              "      <td>2.0</td>\n",
              "    </tr>\n",
              "    <tr>\n",
              "      <th>1</th>\n",
              "      <td>3970.0</td>\n",
              "      <td>74.1</td>\n",
              "      <td>NaN</td>\n",
              "      <td>2.0</td>\n",
              "      <td>2.0</td>\n",
              "    </tr>\n",
              "    <tr>\n",
              "      <th>2</th>\n",
              "      <td>678.0</td>\n",
              "      <td>46.5</td>\n",
              "      <td>NaN</td>\n",
              "      <td>1.0</td>\n",
              "      <td>1.0</td>\n",
              "    </tr>\n",
              "    <tr>\n",
              "      <th>3</th>\n",
              "      <td>2870.0</td>\n",
              "      <td>65.0</td>\n",
              "      <td>NaN</td>\n",
              "      <td>2.0</td>\n",
              "      <td>2.0</td>\n",
              "    </tr>\n",
              "    <tr>\n",
              "      <th>4</th>\n",
              "      <td>3000.0</td>\n",
              "      <td>70.0</td>\n",
              "      <td>NaN</td>\n",
              "      <td>2.0</td>\n",
              "      <td>2.0</td>\n",
              "    </tr>\n",
              "  </tbody>\n",
              "</table>\n",
              "</div>\n",
              "    <div class=\"colab-df-buttons\">\n",
              "\n",
              "  <div class=\"colab-df-container\">\n",
              "    <button class=\"colab-df-convert\" onclick=\"convertToInteractive('df-539d6b35-1f81-4d6c-95dc-82eb6a786f3e')\"\n",
              "            title=\"Convert this dataframe to an interactive table.\"\n",
              "            style=\"display:none;\">\n",
              "\n",
              "  <svg xmlns=\"http://www.w3.org/2000/svg\" height=\"24px\" viewBox=\"0 -960 960 960\">\n",
              "    <path d=\"M120-120v-720h720v720H120Zm60-500h600v-160H180v160Zm220 220h160v-160H400v160Zm0 220h160v-160H400v160ZM180-400h160v-160H180v160Zm440 0h160v-160H620v160ZM180-180h160v-160H180v160Zm440 0h160v-160H620v160Z\"/>\n",
              "  </svg>\n",
              "    </button>\n",
              "\n",
              "  <style>\n",
              "    .colab-df-container {\n",
              "      display:flex;\n",
              "      gap: 12px;\n",
              "    }\n",
              "\n",
              "    .colab-df-convert {\n",
              "      background-color: #E8F0FE;\n",
              "      border: none;\n",
              "      border-radius: 50%;\n",
              "      cursor: pointer;\n",
              "      display: none;\n",
              "      fill: #1967D2;\n",
              "      height: 32px;\n",
              "      padding: 0 0 0 0;\n",
              "      width: 32px;\n",
              "    }\n",
              "\n",
              "    .colab-df-convert:hover {\n",
              "      background-color: #E2EBFA;\n",
              "      box-shadow: 0px 1px 2px rgba(60, 64, 67, 0.3), 0px 1px 3px 1px rgba(60, 64, 67, 0.15);\n",
              "      fill: #174EA6;\n",
              "    }\n",
              "\n",
              "    .colab-df-buttons div {\n",
              "      margin-bottom: 4px;\n",
              "    }\n",
              "\n",
              "    [theme=dark] .colab-df-convert {\n",
              "      background-color: #3B4455;\n",
              "      fill: #D2E3FC;\n",
              "    }\n",
              "\n",
              "    [theme=dark] .colab-df-convert:hover {\n",
              "      background-color: #434B5C;\n",
              "      box-shadow: 0px 1px 3px 1px rgba(0, 0, 0, 0.15);\n",
              "      filter: drop-shadow(0px 1px 2px rgba(0, 0, 0, 0.3));\n",
              "      fill: #FFFFFF;\n",
              "    }\n",
              "  </style>\n",
              "\n",
              "    <script>\n",
              "      const buttonEl =\n",
              "        document.querySelector('#df-539d6b35-1f81-4d6c-95dc-82eb6a786f3e button.colab-df-convert');\n",
              "      buttonEl.style.display =\n",
              "        google.colab.kernel.accessAllowed ? 'block' : 'none';\n",
              "\n",
              "      async function convertToInteractive(key) {\n",
              "        const element = document.querySelector('#df-539d6b35-1f81-4d6c-95dc-82eb6a786f3e');\n",
              "        const dataTable =\n",
              "          await google.colab.kernel.invokeFunction('convertToInteractive',\n",
              "                                                    [key], {});\n",
              "        if (!dataTable) return;\n",
              "\n",
              "        const docLinkHtml = 'Like what you see? Visit the ' +\n",
              "          '<a target=\"_blank\" href=https://colab.research.google.com/notebooks/data_table.ipynb>data table notebook</a>'\n",
              "          + ' to learn more about interactive tables.';\n",
              "        element.innerHTML = '';\n",
              "        dataTable['output_type'] = 'display_data';\n",
              "        await google.colab.output.renderOutput(dataTable, element);\n",
              "        const docLink = document.createElement('div');\n",
              "        docLink.innerHTML = docLinkHtml;\n",
              "        element.appendChild(docLink);\n",
              "      }\n",
              "    </script>\n",
              "  </div>\n",
              "\n",
              "\n",
              "<div id=\"df-be148bdd-fb39-4234-86f8-5a3e7d7c5a0b\">\n",
              "  <button class=\"colab-df-quickchart\" onclick=\"quickchart('df-be148bdd-fb39-4234-86f8-5a3e7d7c5a0b')\"\n",
              "            title=\"Suggest charts.\"\n",
              "            style=\"display:none;\">\n",
              "\n",
              "<svg xmlns=\"http://www.w3.org/2000/svg\" height=\"24px\"viewBox=\"0 0 24 24\"\n",
              "     width=\"24px\">\n",
              "    <g>\n",
              "        <path d=\"M19 3H5c-1.1 0-2 .9-2 2v14c0 1.1.9 2 2 2h14c1.1 0 2-.9 2-2V5c0-1.1-.9-2-2-2zM9 17H7v-7h2v7zm4 0h-2V7h2v10zm4 0h-2v-4h2v4z\"/>\n",
              "    </g>\n",
              "</svg>\n",
              "  </button>\n",
              "\n",
              "<style>\n",
              "  .colab-df-quickchart {\n",
              "      --bg-color: #E8F0FE;\n",
              "      --fill-color: #1967D2;\n",
              "      --hover-bg-color: #E2EBFA;\n",
              "      --hover-fill-color: #174EA6;\n",
              "      --disabled-fill-color: #AAA;\n",
              "      --disabled-bg-color: #DDD;\n",
              "  }\n",
              "\n",
              "  [theme=dark] .colab-df-quickchart {\n",
              "      --bg-color: #3B4455;\n",
              "      --fill-color: #D2E3FC;\n",
              "      --hover-bg-color: #434B5C;\n",
              "      --hover-fill-color: #FFFFFF;\n",
              "      --disabled-bg-color: #3B4455;\n",
              "      --disabled-fill-color: #666;\n",
              "  }\n",
              "\n",
              "  .colab-df-quickchart {\n",
              "    background-color: var(--bg-color);\n",
              "    border: none;\n",
              "    border-radius: 50%;\n",
              "    cursor: pointer;\n",
              "    display: none;\n",
              "    fill: var(--fill-color);\n",
              "    height: 32px;\n",
              "    padding: 0;\n",
              "    width: 32px;\n",
              "  }\n",
              "\n",
              "  .colab-df-quickchart:hover {\n",
              "    background-color: var(--hover-bg-color);\n",
              "    box-shadow: 0 1px 2px rgba(60, 64, 67, 0.3), 0 1px 3px 1px rgba(60, 64, 67, 0.15);\n",
              "    fill: var(--button-hover-fill-color);\n",
              "  }\n",
              "\n",
              "  .colab-df-quickchart-complete:disabled,\n",
              "  .colab-df-quickchart-complete:disabled:hover {\n",
              "    background-color: var(--disabled-bg-color);\n",
              "    fill: var(--disabled-fill-color);\n",
              "    box-shadow: none;\n",
              "  }\n",
              "\n",
              "  .colab-df-spinner {\n",
              "    border: 2px solid var(--fill-color);\n",
              "    border-color: transparent;\n",
              "    border-bottom-color: var(--fill-color);\n",
              "    animation:\n",
              "      spin 1s steps(1) infinite;\n",
              "  }\n",
              "\n",
              "  @keyframes spin {\n",
              "    0% {\n",
              "      border-color: transparent;\n",
              "      border-bottom-color: var(--fill-color);\n",
              "      border-left-color: var(--fill-color);\n",
              "    }\n",
              "    20% {\n",
              "      border-color: transparent;\n",
              "      border-left-color: var(--fill-color);\n",
              "      border-top-color: var(--fill-color);\n",
              "    }\n",
              "    30% {\n",
              "      border-color: transparent;\n",
              "      border-left-color: var(--fill-color);\n",
              "      border-top-color: var(--fill-color);\n",
              "      border-right-color: var(--fill-color);\n",
              "    }\n",
              "    40% {\n",
              "      border-color: transparent;\n",
              "      border-right-color: var(--fill-color);\n",
              "      border-top-color: var(--fill-color);\n",
              "    }\n",
              "    60% {\n",
              "      border-color: transparent;\n",
              "      border-right-color: var(--fill-color);\n",
              "    }\n",
              "    80% {\n",
              "      border-color: transparent;\n",
              "      border-right-color: var(--fill-color);\n",
              "      border-bottom-color: var(--fill-color);\n",
              "    }\n",
              "    90% {\n",
              "      border-color: transparent;\n",
              "      border-bottom-color: var(--fill-color);\n",
              "    }\n",
              "  }\n",
              "</style>\n",
              "\n",
              "  <script>\n",
              "    async function quickchart(key) {\n",
              "      const quickchartButtonEl =\n",
              "        document.querySelector('#' + key + ' button');\n",
              "      quickchartButtonEl.disabled = true;  // To prevent multiple clicks.\n",
              "      quickchartButtonEl.classList.add('colab-df-spinner');\n",
              "      try {\n",
              "        const charts = await google.colab.kernel.invokeFunction(\n",
              "            'suggestCharts', [key], {});\n",
              "      } catch (error) {\n",
              "        console.error('Error during call to suggestCharts:', error);\n",
              "      }\n",
              "      quickchartButtonEl.classList.remove('colab-df-spinner');\n",
              "      quickchartButtonEl.classList.add('colab-df-quickchart-complete');\n",
              "    }\n",
              "    (() => {\n",
              "      let quickchartButtonEl =\n",
              "        document.querySelector('#df-be148bdd-fb39-4234-86f8-5a3e7d7c5a0b button');\n",
              "      quickchartButtonEl.style.display =\n",
              "        google.colab.kernel.accessAllowed ? 'block' : 'none';\n",
              "    })();\n",
              "  </script>\n",
              "</div>\n",
              "    </div>\n",
              "  </div>\n"
            ]
          },
          "metadata": {},
          "execution_count": 80
        }
      ]
    },
    {
      "cell_type": "code",
      "source": [
        "df_num.hist(figsize=(16, 20), bins=50, xlabelsize=8, ylabelsize=8);"
      ],
      "metadata": {
        "colab": {
          "base_uri": "https://localhost:8080/",
          "height": 1000
        },
        "id": "Gfwhr-cm677X",
        "outputId": "ae18cdea-f8f0-4a9e-b449-4556c22a77a6"
      },
      "execution_count": null,
      "outputs": [
        {
          "output_type": "display_data",
          "data": {
            "text/plain": [
              "<Figure size 1600x2000 with 6 Axes>"
            ],
            "image/png": "[encoded data removed]"
          },
          "metadata": {}
        }
      ]
    },
    {
      "cell_type": "code",
      "source": [
        "import numpy as np\n",
        "\n",
        "def split_dataset(dataset, test_ratio=0.30):\n",
        "  test_indices = np.random.rand(len(dataset)) < test_ratio\n",
        "  return dataset[~test_indices], dataset[test_indices]\n",
        "\n",
        "train_ds_pd, valid_ds_pd = split_dataset(dataset_df)\n",
        "print(\"{} examples in training, {} examples in testing.\".format(\n",
        "    len(train_ds_pd), len(valid_ds_pd)))"
      ],
      "metadata": {
        "colab": {
          "base_uri": "https://localhost:8080/"
        },
        "id": "v4661rYc8Cgo",
        "outputId": "45364d1e-161b-46cd-de2d-b9df0853b511"
      },
      "execution_count": null,
      "outputs": [
        {
          "output_type": "stream",
          "name": "stdout",
          "text": [
            "1358 examples in training, 592 examples in testing.\n"
          ]
        }
      ]
    },
    {
      "cell_type": "code",
      "source": [
        "train_ds_pd.head()"
      ],
      "metadata": {
        "colab": {
          "base_uri": "https://localhost:8080/",
          "height": 206
        },
        "id": "ny9XW6wmDORe",
        "outputId": "762674ec-411d-4374-dbd5-fc2e6b036108"
      },
      "execution_count": null,
      "outputs": [
        {
          "output_type": "execute_result",
          "data": {
            "text/plain": [
              "               LOAI  NHU_CAU   TINH_THANH     QUAN_HUYEN  GIA_TRIEU_DONG  \\\n",
              "0  Căn hộ, chung cư  Cần bán  Hồ Chí Minh         Quận 9          2650.0   \n",
              "1  Căn hộ, chung cư  Cần bán  Hồ Chí Minh  Quận Tân Bình          3970.0   \n",
              "2  Căn hộ, chung cư  Cần bán  Hồ Chí Minh         Quận 9           678.0   \n",
              "5  Căn hộ, chung cư  Cần bán  Hồ Chí Minh         Quận 7          3200.0   \n",
              "8  Căn hộ, chung cư  Cần bán  Hồ Chí Minh   Quận Thủ Đức          3500.0   \n",
              "\n",
              "   DIEN_TICH_M2 HƯỚNG  SO_TANG  SO_PHNG  SO_TOILETS GIAY_TO_PHAP_LY  \n",
              "0          69.0   NaN      NaN      2.0         2.0        Đã có sổ  \n",
              "1          74.1   NaN      NaN      2.0         2.0     Đang chờ sổ  \n",
              "2          46.5   Tây      NaN      1.0         1.0     Đang chờ sổ  \n",
              "5          70.0   NaN      NaN      2.0         NaN     Đang chờ sổ  \n",
              "8          89.0   NaN      NaN      2.0         2.0             NaN  "
            ],
            "text/html": [
              "\n",
              "  <div id=\"df-60c29f72-b706-46e3-8e5f-6c02c1316b89\" class=\"colab-df-container\">\n",
              "    <div>\n",
              "<style scoped>\n",
              "    .dataframe tbody tr th:only-of-type {\n",
              "        vertical-align: middle;\n",
              "    }\n",
              "\n",
              "    .dataframe tbody tr th {\n",
              "        vertical-align: top;\n",
              "    }\n",
              "\n",
              "    .dataframe thead th {\n",
              "        text-align: right;\n",
              "    }\n",
              "</style>\n",
              "<table border=\"1\" class=\"dataframe\">\n",
              "  <thead>\n",
              "    <tr style=\"text-align: right;\">\n",
              "      <th></th>\n",
              "      <th>LOAI</th>\n",
              "      <th>NHU_CAU</th>\n",
              "      <th>TINH_THANH</th>\n",
              "      <th>QUAN_HUYEN</th>\n",
              "      <th>GIA_TRIEU_DONG</th>\n",
              "      <th>DIEN_TICH_M2</th>\n",
              "      <th>HƯỚNG</th>\n",
              "      <th>SO_TANG</th>\n",
              "      <th>SO_PHNG</th>\n",
              "      <th>SO_TOILETS</th>\n",
              "      <th>GIAY_TO_PHAP_LY</th>\n",
              "    </tr>\n",
              "  </thead>\n",
              "  <tbody>\n",
              "    <tr>\n",
              "      <th>0</th>\n",
              "      <td>Căn hộ, chung cư</td>\n",
              "      <td>Cần bán</td>\n",
              "      <td>Hồ Chí Minh</td>\n",
              "      <td>Quận 9</td>\n",
              "      <td>2650.0</td>\n",
              "      <td>69.0</td>\n",
              "      <td>NaN</td>\n",
              "      <td>NaN</td>\n",
              "      <td>2.0</td>\n",
              "      <td>2.0</td>\n",
              "      <td>Đã có sổ</td>\n",
              "    </tr>\n",
              "    <tr>\n",
              "      <th>1</th>\n",
              "      <td>Căn hộ, chung cư</td>\n",
              "      <td>Cần bán</td>\n",
              "      <td>Hồ Chí Minh</td>\n",
              "      <td>Quận Tân Bình</td>\n",
              "      <td>3970.0</td>\n",
              "      <td>74.1</td>\n",
              "      <td>NaN</td>\n",
              "      <td>NaN</td>\n",
              "      <td>2.0</td>\n",
              "      <td>2.0</td>\n",
              "      <td>Đang chờ sổ</td>\n",
              "    </tr>\n",
              "    <tr>\n",
              "      <th>2</th>\n",
              "      <td>Căn hộ, chung cư</td>\n",
              "      <td>Cần bán</td>\n",
              "      <td>Hồ Chí Minh</td>\n",
              "      <td>Quận 9</td>\n",
              "      <td>678.0</td>\n",
              "      <td>46.5</td>\n",
              "      <td>Tây</td>\n",
              "      <td>NaN</td>\n",
              "      <td>1.0</td>\n",
              "      <td>1.0</td>\n",
              "      <td>Đang chờ sổ</td>\n",
              "    </tr>\n",
              "    <tr>\n",
              "      <th>5</th>\n",
              "      <td>Căn hộ, chung cư</td>\n",
              "      <td>Cần bán</td>\n",
              "      <td>Hồ Chí Minh</td>\n",
              "      <td>Quận 7</td>\n",
              "      <td>3200.0</td>\n",
              "      <td>70.0</td>\n",
              "      <td>NaN</td>\n",
              "      <td>NaN</td>\n",
              "      <td>2.0</td>\n",
              "      <td>NaN</td>\n",
              "      <td>Đang chờ sổ</td>\n",
              "    </tr>\n",
              "    <tr>\n",
              "      <th>8</th>\n",
              "      <td>Căn hộ, chung cư</td>\n",
              "      <td>Cần bán</td>\n",
              "      <td>Hồ Chí Minh</td>\n",
              "      <td>Quận Thủ Đức</td>\n",
              "      <td>3500.0</td>\n",
              "      <td>89.0</td>\n",
              "      <td>NaN</td>\n",
              "      <td>NaN</td>\n",
              "      <td>2.0</td>\n",
              "      <td>2.0</td>\n",
              "      <td>NaN</td>\n",
              "    </tr>\n",
              "  </tbody>\n",
              "</table>\n",
              "</div>\n",
              "    <div class=\"colab-df-buttons\">\n",
              "\n",
              "  <div class=\"colab-df-container\">\n",
              "    <button class=\"colab-df-convert\" onclick=\"convertToInteractive('df-60c29f72-b706-46e3-8e5f-6c02c1316b89')\"\n",
              "            title=\"Convert this dataframe to an interactive table.\"\n",
              "            style=\"display:none;\">\n",
              "\n",
              "  <svg xmlns=\"http://www.w3.org/2000/svg\" height=\"24px\" viewBox=\"0 -960 960 960\">\n",
              "    <path d=\"M120-120v-720h720v720H120Zm60-500h600v-160H180v160Zm220 220h160v-160H400v160Zm0 220h160v-160H400v160ZM180-400h160v-160H180v160Zm440 0h160v-160H620v160ZM180-180h160v-160H180v160Zm440 0h160v-160H620v160Z\"/>\n",
              "  </svg>\n",
              "    </button>\n",
              "\n",
              "  <style>\n",
              "    .colab-df-container {\n",
              "      display:flex;\n",
              "      gap: 12px;\n",
              "    }\n",
              "\n",
              "    .colab-df-convert {\n",
              "      background-color: #E8F0FE;\n",
              "      border: none;\n",
              "      border-radius: 50%;\n",
              "      cursor: pointer;\n",
              "      display: none;\n",
              "      fill: #1967D2;\n",
              "      height: 32px;\n",
              "      padding: 0 0 0 0;\n",
              "      width: 32px;\n",
              "    }\n",
              "\n",
              "    .colab-df-convert:hover {\n",
              "      background-color: #E2EBFA;\n",
              "      box-shadow: 0px 1px 2px rgba(60, 64, 67, 0.3), 0px 1px 3px 1px rgba(60, 64, 67, 0.15);\n",
              "      fill: #174EA6;\n",
              "    }\n",
              "\n",
              "    .colab-df-buttons div {\n",
              "      margin-bottom: 4px;\n",
              "    }\n",
              "\n",
              "    [theme=dark] .colab-df-convert {\n",
              "      background-color: #3B4455;\n",
              "      fill: #D2E3FC;\n",
              "    }\n",
              "\n",
              "    [theme=dark] .colab-df-convert:hover {\n",
              "      background-color: #434B5C;\n",
              "      box-shadow: 0px 1px 3px 1px rgba(0, 0, 0, 0.15);\n",
              "      filter: drop-shadow(0px 1px 2px rgba(0, 0, 0, 0.3));\n",
              "      fill: #FFFFFF;\n",
              "    }\n",
              "  </style>\n",
              "\n",
              "    <script>\n",
              "      const buttonEl =\n",
              "        document.querySelector('#df-60c29f72-b706-46e3-8e5f-6c02c1316b89 button.colab-df-convert');\n",
              "      buttonEl.style.display =\n",
              "        google.colab.kernel.accessAllowed ? 'block' : 'none';\n",
              "\n",
              "      async function convertToInteractive(key) {\n",
              "        const element = document.querySelector('#df-60c29f72-b706-46e3-8e5f-6c02c1316b89');\n",
              "        const dataTable =\n",
              "          await google.colab.kernel.invokeFunction('convertToInteractive',\n",
              "                                                    [key], {});\n",
              "        if (!dataTable) return;\n",
              "\n",
              "        const docLinkHtml = 'Like what you see? Visit the ' +\n",
              "          '<a target=\"_blank\" href=https://colab.research.google.com/notebooks/data_table.ipynb>data table notebook</a>'\n",
              "          + ' to learn more about interactive tables.';\n",
              "        element.innerHTML = '';\n",
              "        dataTable['output_type'] = 'display_data';\n",
              "        await google.colab.output.renderOutput(dataTable, element);\n",
              "        const docLink = document.createElement('div');\n",
              "        docLink.innerHTML = docLinkHtml;\n",
              "        element.appendChild(docLink);\n",
              "      }\n",
              "    </script>\n",
              "  </div>\n",
              "\n",
              "\n",
              "<div id=\"df-c516eab3-cc5a-4894-a2e4-cfc08871f72f\">\n",
              "  <button class=\"colab-df-quickchart\" onclick=\"quickchart('df-c516eab3-cc5a-4894-a2e4-cfc08871f72f')\"\n",
              "            title=\"Suggest charts.\"\n",
              "            style=\"display:none;\">\n",
              "\n",
              "<svg xmlns=\"http://www.w3.org/2000/svg\" height=\"24px\"viewBox=\"0 0 24 24\"\n",
              "     width=\"24px\">\n",
              "    <g>\n",
              "        <path d=\"M19 3H5c-1.1 0-2 .9-2 2v14c0 1.1.9 2 2 2h14c1.1 0 2-.9 2-2V5c0-1.1-.9-2-2-2zM9 17H7v-7h2v7zm4 0h-2V7h2v10zm4 0h-2v-4h2v4z\"/>\n",
              "    </g>\n",
              "</svg>\n",
              "  </button>\n",
              "\n",
              "<style>\n",
              "  .colab-df-quickchart {\n",
              "      --bg-color: #E8F0FE;\n",
              "      --fill-color: #1967D2;\n",
              "      --hover-bg-color: #E2EBFA;\n",
              "      --hover-fill-color: #174EA6;\n",
              "      --disabled-fill-color: #AAA;\n",
              "      --disabled-bg-color: #DDD;\n",
              "  }\n",
              "\n",
              "  [theme=dark] .colab-df-quickchart {\n",
              "      --bg-color: #3B4455;\n",
              "      --fill-color: #D2E3FC;\n",
              "      --hover-bg-color: #434B5C;\n",
              "      --hover-fill-color: #FFFFFF;\n",
              "      --disabled-bg-color: #3B4455;\n",
              "      --disabled-fill-color: #666;\n",
              "  }\n",
              "\n",
              "  .colab-df-quickchart {\n",
              "    background-color: var(--bg-color);\n",
              "    border: none;\n",
              "    border-radius: 50%;\n",
              "    cursor: pointer;\n",
              "    display: none;\n",
              "    fill: var(--fill-color);\n",
              "    height: 32px;\n",
              "    padding: 0;\n",
              "    width: 32px;\n",
              "  }\n",
              "\n",
              "  .colab-df-quickchart:hover {\n",
              "    background-color: var(--hover-bg-color);\n",
              "    box-shadow: 0 1px 2px rgba(60, 64, 67, 0.3), 0 1px 3px 1px rgba(60, 64, 67, 0.15);\n",
              "    fill: var(--button-hover-fill-color);\n",
              "  }\n",
              "\n",
              "  .colab-df-quickchart-complete:disabled,\n",
              "  .colab-df-quickchart-complete:disabled:hover {\n",
              "    background-color: var(--disabled-bg-color);\n",
              "    fill: var(--disabled-fill-color);\n",
              "    box-shadow: none;\n",
              "  }\n",
              "\n",
              "  .colab-df-spinner {\n",
              "    border: 2px solid var(--fill-color);\n",
              "    border-color: transparent;\n",
              "    border-bottom-color: var(--fill-color);\n",
              "    animation:\n",
              "      spin 1s steps(1) infinite;\n",
              "  }\n",
              "\n",
              "  @keyframes spin {\n",
              "    0% {\n",
              "      border-color: transparent;\n",
              "      border-bottom-color: var(--fill-color);\n",
              "      border-left-color: var(--fill-color);\n",
              "    }\n",
              "    20% {\n",
              "      border-color: transparent;\n",
              "      border-left-color: var(--fill-color);\n",
              "      border-top-color: var(--fill-color);\n",
              "    }\n",
              "    30% {\n",
              "      border-color: transparent;\n",
              "      border-left-color: var(--fill-color);\n",
              "      border-top-color: var(--fill-color);\n",
              "      border-right-color: var(--fill-color);\n",
              "    }\n",
              "    40% {\n",
              "      border-color: transparent;\n",
              "      border-right-color: var(--fill-color);\n",
              "      border-top-color: var(--fill-color);\n",
              "    }\n",
              "    60% {\n",
              "      border-color: transparent;\n",
              "      border-right-color: var(--fill-color);\n",
              "    }\n",
              "    80% {\n",
              "      border-color: transparent;\n",
              "      border-right-color: var(--fill-color);\n",
              "      border-bottom-color: var(--fill-color);\n",
              "    }\n",
              "    90% {\n",
              "      border-color: transparent;\n",
              "      border-bottom-color: var(--fill-color);\n",
              "    }\n",
              "  }\n",
              "</style>\n",
              "\n",
              "  <script>\n",
              "    async function quickchart(key) {\n",
              "      const quickchartButtonEl =\n",
              "        document.querySelector('#' + key + ' button');\n",
              "      quickchartButtonEl.disabled = true;  // To prevent multiple clicks.\n",
              "      quickchartButtonEl.classList.add('colab-df-spinner');\n",
              "      try {\n",
              "        const charts = await google.colab.kernel.invokeFunction(\n",
              "            'suggestCharts', [key], {});\n",
              "      } catch (error) {\n",
              "        console.error('Error during call to suggestCharts:', error);\n",
              "      }\n",
              "      quickchartButtonEl.classList.remove('colab-df-spinner');\n",
              "      quickchartButtonEl.classList.add('colab-df-quickchart-complete');\n",
              "    }\n",
              "    (() => {\n",
              "      let quickchartButtonEl =\n",
              "        document.querySelector('#df-c516eab3-cc5a-4894-a2e4-cfc08871f72f button');\n",
              "      quickchartButtonEl.style.display =\n",
              "        google.colab.kernel.accessAllowed ? 'block' : 'none';\n",
              "    })();\n",
              "  </script>\n",
              "</div>\n",
              "    </div>\n",
              "  </div>\n"
            ]
          },
          "metadata": {},
          "execution_count": 83
        }
      ]
    },
    {
      "cell_type": "code",
      "source": [
        "label = 'GIA_TRIEU_DONG'\n",
        "train_ds = tfdf.keras.pd_dataframe_to_tf_dataset(train_ds_pd, label='GIA_TRIEU_DONG', task = tfdf.keras.Task.REGRESSION, fix_feature_names=False)\n",
        "valid_ds = tfdf.keras.pd_dataframe_to_tf_dataset(valid_ds_pd, label='GIA_TRIEU_DONG', task = tfdf.keras.Task.REGRESSION, fix_feature_names=False)"
      ],
      "metadata": {
        "id": "xSAttamJ8EIX"
      },
      "execution_count": null,
      "outputs": []
    },
    {
      "cell_type": "code",
      "source": [
        "tfdf.keras.get_all_models()"
      ],
      "metadata": {
        "colab": {
          "base_uri": "https://localhost:8080/"
        },
        "id": "iEmex5yn_94K",
        "outputId": "46b2116c-4d46-4984-8e46-2aaa364510b3"
      },
      "execution_count": null,
      "outputs": [
        {
          "output_type": "execute_result",
          "data": {
            "text/plain": [
              "[tensorflow_decision_forests.keras.RandomForestModel,\n",
              " tensorflow_decision_forests.keras.GradientBoostedTreesModel,\n",
              " tensorflow_decision_forests.keras.CartModel,\n",
              " tensorflow_decision_forests.keras.DistributedGradientBoostedTreesModel]"
            ]
          },
          "metadata": {},
          "execution_count": 85
        }
      ]
    },
    {
      "cell_type": "code",
      "source": [
        "rf = tfdf.keras.RandomForestModel(task = tfdf.keras.Task.REGRESSION)\n",
        "rf.compile(metrics=[\"mse\"]) # Optional, you can use this to include a list of eval metrics"
      ],
      "metadata": {
        "colab": {
          "base_uri": "https://localhost:8080/"
        },
        "id": "dgrGTCAgADtI",
        "outputId": "a772c483-f72e-43e3-9d4f-78dac519094a"
      },
      "execution_count": null,
      "outputs": [
        {
          "output_type": "stream",
          "name": "stdout",
          "text": [
            "Use /tmp/tmpe_n6900v as temporary training directory\n"
          ]
        }
      ]
    },
    {
      "cell_type": "code",
      "source": [
        "rf.fit(x=train_ds)"
      ],
      "metadata": {
        "colab": {
          "base_uri": "https://localhost:8080/"
        },
        "id": "1FFfcpbqATWs",
        "outputId": "04b91d80-2d98-4f2d-e849-4ea913dc7a01"
      },
      "execution_count": null,
      "outputs": [
        {
          "output_type": "stream",
          "name": "stdout",
          "text": [
            "Reading training dataset...\n",
            "Training dataset read in 0:00:00.341071. Found 1358 examples.\n",
            "Training model...\n",
            "Model trained in 0:00:01.268497\n",
            "Compiling model...\n"
          ]
        },
        {
          "output_type": "stream",
          "name": "stderr",
          "text": [
            "WARNING:absl:Registering feature \"SO_TANG\" not used by the model.\n"
          ]
        },
        {
          "output_type": "stream",
          "name": "stdout",
          "text": [
            "Model compiled.\n"
          ]
        },
        {
          "output_type": "execute_result",
          "data": {
            "text/plain": [
              "<keras.src.callbacks.History at 0x790c5861a350>"
            ]
          },
          "metadata": {},
          "execution_count": 88
        }
      ]
    },
    {
      "cell_type": "code",
      "source": [
        "tfdf.model_plotter.plot_model_in_colab(rf, tree_idx=0, max_depth=8)"
      ],
      "metadata": {
        "colab": {
          "base_uri": "https://localhost:8080/",
          "height": 1000
        },
        "id": "tfit9QEvIoOQ",
        "outputId": "c51d9e72-b765-42d2-f433-3f2703b209b3"
      },
      "execution_count": null,
      "outputs": [
        {
          "output_type": "execute_result",
          "data": {
            "text/plain": [
              "<IPython.core.display.HTML object>"
            ],
            "text/html": [
              "\n",
              "<script src=\"https://d3js.org/d3.v6.min.js\"></script>\n",
              "<div id=\"tree_plot_5330545195e4488496b7ec518863499d\"></div>\n",
              "<script>\n",
              "/*\n",
              " * Copyright 2021 Google LLC.\n",
              " * Licensed under the Apache License, Version 2.0 (the \"License\");\n",
              " * you may not use this file except in compliance with the License.\n",
              " * You may obtain a copy of the License at\n",
              " *\n",
              " *     https://www.apache.org/licenses/LICENSE-2.0\n",
              " *\n",
              " * Unless required by applicable law or agreed to in writing, software\n",
              " * distributed under the License is distributed on an \"AS IS\" BASIS,\n",
              " * WITHOUT WARRANTIES OR CONDITIONS OF ANY KIND, either express or implied.\n",
              " * See the License for the specific language governing permissions and\n",
              " * limitations under the License.\n",
              " */\n",
              "\n",
              "/**\n",
              " *  Plotting of decision trees generated by TF-DF.\n",
              " *\n",
              " *  A tree is a recursive structure of node objects.\n",
              " *  A node contains one or more of the following components:\n",
              " *\n",
              " *    - A value: Representing the output of the node. If the node is not a leaf,\n",
              " *      the value is only present for analysis i.e. it is not used for\n",
              " *      predictions.\n",
              " *\n",
              " *    - A condition : For non-leaf nodes, the condition (also known as split)\n",
              " *      defines a binary test to branch to the positive or negative child.\n",
              " *\n",
              " *    - An explanation: Generally a plot showing the relation between the label\n",
              " *      and the condition to give insights about the effect of the condition.\n",
              " *\n",
              " *    - Two children : For non-leaf nodes, the children nodes. The first\n",
              " *      children (i.e. \"node.children[0]\") is the negative children (drawn in\n",
              " *      red). The second children is the positive one (drawn in green).\n",
              " *\n",
              " */\n",
              "\n",
              "/**\n",
              " * Plots a single decision tree into a DOM element.\n",
              " * @param {!options} options Dictionary of configurations.\n",
              " * @param {!tree} raw_tree Recursive tree structure.\n",
              " * @param {string} canvas_id Id of the output dom element.\n",
              " */\n",
              "function display_tree(options, raw_tree, canvas_id) {\n",
              "  console.log(options);\n",
              "\n",
              "  // Determine the node placement.\n",
              "  const tree_struct = d3.tree().nodeSize(\n",
              "      [options.node_y_offset, options.node_x_offset])(d3.hierarchy(raw_tree));\n",
              "\n",
              "  // Boundaries of the node placement.\n",
              "  let x_min = Infinity;\n",
              "  let x_max = -x_min;\n",
              "  let y_min = Infinity;\n",
              "  let y_max = -x_min;\n",
              "\n",
              "  tree_struct.each(d => {\n",
              "    if (d.x > x_max) x_max = d.x;\n",
              "    if (d.x < x_min) x_min = d.x;\n",
              "    if (d.y > y_max) y_max = d.y;\n",
              "    if (d.y < y_min) y_min = d.y;\n",
              "  });\n",
              "\n",
              "  // Size of the plot.\n",
              "  const width = y_max - y_min + options.node_x_size + options.margin * 2;\n",
              "  const height = x_max - x_min + options.node_y_size + options.margin * 2 +\n",
              "      options.node_y_offset - options.node_y_size;\n",
              "\n",
              "  const plot = d3.select(canvas_id);\n",
              "\n",
              "  // Tool tip\n",
              "  options.tooltip = plot.append('div')\n",
              "                        .attr('width', 100)\n",
              "                        .attr('height', 100)\n",
              "                        .style('padding', '4px')\n",
              "                        .style('background', '#fff')\n",
              "                        .style('box-shadow', '4px 4px 0px rgba(0,0,0,0.1)')\n",
              "                        .style('border', '1px solid black')\n",
              "                        .style('font-family', 'sans-serif')\n",
              "                        .style('font-size', options.font_size)\n",
              "                        .style('position', 'absolute')\n",
              "                        .style('z-index', '10')\n",
              "                        .attr('pointer-events', 'none')\n",
              "                        .style('display', 'none');\n",
              "\n",
              "  // Create canvas\n",
              "  const svg = plot.append('svg').attr('width', width).attr('height', height);\n",
              "  const graph =\n",
              "      svg.style('overflow', 'visible')\n",
              "          .append('g')\n",
              "          .attr('font-family', 'sans-serif')\n",
              "          .attr('font-size', options.font_size)\n",
              "          .attr(\n",
              "              'transform',\n",
              "              () => `translate(${options.margin},${\n",
              "                  - x_min + options.node_y_offset / 2 + options.margin})`);\n",
              "\n",
              "  // Plot bounding box.\n",
              "  if (options.show_plot_bounding_box) {\n",
              "    svg.append('rect')\n",
              "        .attr('width', width)\n",
              "        .attr('height', height)\n",
              "        .attr('fill', 'none')\n",
              "        .attr('stroke-width', 1.0)\n",
              "        .attr('stroke', 'black');\n",
              "  }\n",
              "\n",
              "  // Draw the edges.\n",
              "  display_edges(options, graph, tree_struct);\n",
              "\n",
              "  // Draw the nodes.\n",
              "  display_nodes(options, graph, tree_struct);\n",
              "}\n",
              "\n",
              "/**\n",
              " * Draw the nodes of the tree.\n",
              " * @param {!options} options Dictionary of configurations.\n",
              " * @param {!graph} graph D3 search handle containing the graph.\n",
              " * @param {!tree_struct} tree_struct Structure of the tree (node placement,\n",
              " *     data, etc.).\n",
              " */\n",
              "function display_nodes(options, graph, tree_struct) {\n",
              "  const nodes = graph.append('g')\n",
              "                    .selectAll('g')\n",
              "                    .data(tree_struct.descendants())\n",
              "                    .join('g')\n",
              "                    .attr('transform', d => `translate(${d.y},${d.x})`);\n",
              "\n",
              "  nodes.append('rect')\n",
              "      .attr('x', 0.5)\n",
              "      .attr('y', 0.5)\n",
              "      .attr('width', options.node_x_size)\n",
              "      .attr('height', options.node_y_size)\n",
              "      .attr('stroke', 'lightgrey')\n",
              "      .attr('stroke-width', 1)\n",
              "      .attr('fill', 'white')\n",
              "      .attr('y', -options.node_y_size / 2);\n",
              "\n",
              "  // Brackets on the right of condition nodes without children.\n",
              "  non_leaf_node_without_children =\n",
              "      nodes.filter(node => node.data.condition != null && node.children == null)\n",
              "          .append('g')\n",
              "          .attr('transform', `translate(${options.node_x_size},0)`);\n",
              "\n",
              "  non_leaf_node_without_children.append('path')\n",
              "      .attr('d', 'M0,0 C 10,0 0,10 10,10')\n",
              "      .attr('fill', 'none')\n",
              "      .attr('stroke-width', 1.0)\n",
              "      .attr('stroke', '#F00');\n",
              "\n",
              "  non_leaf_node_without_children.append('path')\n",
              "      .attr('d', 'M0,0 C 10,0 0,-10 10,-10')\n",
              "      .attr('fill', 'none')\n",
              "      .attr('stroke-width', 1.0)\n",
              "      .attr('stroke', '#0F0');\n",
              "\n",
              "  const node_content = nodes.append('g').attr(\n",
              "      'transform',\n",
              "      `translate(0,${options.node_padding - options.node_y_size / 2})`);\n",
              "\n",
              "  node_content.append(node => create_node_element(options, node));\n",
              "}\n",
              "\n",
              "/**\n",
              " * Creates the D3 content for a single node.\n",
              " * @param {!options} options Dictionary of configurations.\n",
              " * @param {!node} node Node to draw.\n",
              " * @return {!d3} D3 content.\n",
              " */\n",
              "function create_node_element(options, node) {\n",
              "  // Output accumulator.\n",
              "  let output = {\n",
              "    // Content to draw.\n",
              "    content: d3.create('svg:g'),\n",
              "    // Vertical offset to the next element to draw.\n",
              "    vertical_offset: 0\n",
              "  };\n",
              "\n",
              "  // Conditions.\n",
              "  if (node.data.condition != null) {\n",
              "    display_condition(options, node.data.condition, output);\n",
              "  }\n",
              "\n",
              "  // Values.\n",
              "  if (node.data.value != null) {\n",
              "    display_value(options, node.data.value, output);\n",
              "  }\n",
              "\n",
              "  // Explanations.\n",
              "  if (node.data.explanation != null) {\n",
              "    display_explanation(options, node.data.explanation, output);\n",
              "  }\n",
              "\n",
              "  return output.content.node();\n",
              "}\n",
              "\n",
              "\n",
              "/**\n",
              " * Adds a single line of text inside of a node.\n",
              " * @param {!options} options Dictionary of configurations.\n",
              " * @param {string} text Text to display.\n",
              " * @param {!output} output Output display accumulator.\n",
              " */\n",
              "function display_node_text(options, text, output) {\n",
              "  output.content.append('text')\n",
              "      .attr('x', options.node_padding)\n",
              "      .attr('y', output.vertical_offset)\n",
              "      .attr('alignment-baseline', 'hanging')\n",
              "      .text(text);\n",
              "  output.vertical_offset += 10;\n",
              "}\n",
              "\n",
              "/**\n",
              " * Adds a single line of text inside of a node with a tooltip.\n",
              " * @param {!options} options Dictionary of configurations.\n",
              " * @param {string} text Text to display.\n",
              " * @param {string} tooltip Text in the Tooltip.\n",
              " * @param {!output} output Output display accumulator.\n",
              " */\n",
              "function display_node_text_with_tooltip(options, text, tooltip, output) {\n",
              "  const item = output.content.append('text')\n",
              "                   .attr('x', options.node_padding)\n",
              "                   .attr('alignment-baseline', 'hanging')\n",
              "                   .text(text);\n",
              "\n",
              "  add_tooltip(options, item, () => tooltip);\n",
              "  output.vertical_offset += 10;\n",
              "}\n",
              "\n",
              "/**\n",
              " * Adds a tooltip to a dom element.\n",
              " * @param {!options} options Dictionary of configurations.\n",
              " * @param {!dom} target Dom element to equip with a tooltip.\n",
              " * @param {!func} get_content Generates the html content of the tooltip.\n",
              " */\n",
              "function add_tooltip(options, target, get_content) {\n",
              "  function show(d) {\n",
              "    options.tooltip.style('display', 'block');\n",
              "    options.tooltip.html(get_content());\n",
              "  }\n",
              "\n",
              "  function hide(d) {\n",
              "    options.tooltip.style('display', 'none');\n",
              "  }\n",
              "\n",
              "  function move(d) {\n",
              "    options.tooltip.style('display', 'block');\n",
              "    options.tooltip.style('left', (d.pageX + 5) + 'px');\n",
              "    options.tooltip.style('top', d.pageY + 'px');\n",
              "  }\n",
              "\n",
              "  target.on('mouseover', show);\n",
              "  target.on('mouseout', hide);\n",
              "  target.on('mousemove', move);\n",
              "}\n",
              "\n",
              "/**\n",
              " * Adds a condition inside of a node.\n",
              " * @param {!options} options Dictionary of configurations.\n",
              " * @param {!condition} condition Condition to display.\n",
              " * @param {!output} output Output display accumulator.\n",
              " */\n",
              "function display_condition(options, condition, output) {\n",
              "  threshold_format = d3.format('r');\n",
              "\n",
              "  if (condition.type === 'IS_MISSING') {\n",
              "    display_node_text(options, `${condition.attribute} is missing`, output);\n",
              "    return;\n",
              "  }\n",
              "\n",
              "  if (condition.type === 'IS_TRUE') {\n",
              "    display_node_text(options, `${condition.attribute} is true`, output);\n",
              "    return;\n",
              "  }\n",
              "\n",
              "  if (condition.type === 'NUMERICAL_IS_HIGHER_THAN') {\n",
              "    format = d3.format('r');\n",
              "    display_node_text(\n",
              "        options,\n",
              "        `${condition.attribute} >= ${threshold_format(condition.threshold)}`,\n",
              "        output);\n",
              "    return;\n",
              "  }\n",
              "\n",
              "  if (condition.type === 'CATEGORICAL_IS_IN') {\n",
              "    display_node_text_with_tooltip(\n",
              "        options, `${condition.attribute} in [...]`,\n",
              "        `${condition.attribute} in [${condition.mask}]`, output);\n",
              "    return;\n",
              "  }\n",
              "\n",
              "  if (condition.type === 'CATEGORICAL_SET_CONTAINS') {\n",
              "    display_node_text_with_tooltip(\n",
              "        options, `${condition.attribute} intersect [...]`,\n",
              "        `${condition.attribute} intersect [${condition.mask}]`, output);\n",
              "    return;\n",
              "  }\n",
              "\n",
              "  if (condition.type === 'NUMERICAL_SPARSE_OBLIQUE') {\n",
              "    display_node_text_with_tooltip(\n",
              "        options, `Sparse oblique split...`,\n",
              "        `[${condition.attributes}]*[${condition.weights}]>=${\n",
              "            threshold_format(condition.threshold)}`,\n",
              "        output);\n",
              "    return;\n",
              "  }\n",
              "\n",
              "  display_node_text(\n",
              "      options, `Non supported condition ${condition.type}`, output);\n",
              "}\n",
              "\n",
              "/**\n",
              " * Adds a value inside of a node.\n",
              " * @param {!options} options Dictionary of configurations.\n",
              " * @param {!value} value Value to display.\n",
              " * @param {!output} output Output display accumulator.\n",
              " */\n",
              "function display_value(options, value, output) {\n",
              "  if (value.type === 'PROBABILITY') {\n",
              "    const left_margin = 0;\n",
              "    const right_margin = 50;\n",
              "    const plot_width = options.node_x_size - options.node_padding * 2 -\n",
              "        left_margin - right_margin;\n",
              "\n",
              "    let cusum = Array.from(d3.cumsum(value.distribution));\n",
              "    cusum.unshift(0);\n",
              "    const distribution_plot = output.content.append('g').attr(\n",
              "        'transform', `translate(0,${output.vertical_offset + 0.5})`);\n",
              "\n",
              "    distribution_plot.selectAll('rect')\n",
              "        .data(value.distribution)\n",
              "        .join('rect')\n",
              "        .attr('height', 10)\n",
              "        .attr(\n",
              "            'x',\n",
              "            (d, i) =>\n",
              "                (cusum[i] * plot_width + left_margin + options.node_padding))\n",
              "        .attr('width', (d, i) => d * plot_width)\n",
              "        .style('fill', (d, i) => d3.schemeSet1[i]);\n",
              "\n",
              "    const num_examples =\n",
              "        output.content.append('g')\n",
              "            .attr('transform', `translate(0,${output.vertical_offset})`)\n",
              "            .append('text')\n",
              "            .attr('x', options.node_x_size - options.node_padding)\n",
              "            .attr('alignment-baseline', 'hanging')\n",
              "            .attr('text-anchor', 'end')\n",
              "            .text(`(${value.num_examples})`);\n",
              "\n",
              "    const distribution_details = d3.create('ul');\n",
              "    distribution_details.selectAll('li')\n",
              "        .data(value.distribution)\n",
              "        .join('li')\n",
              "        .append('span')\n",
              "        .text(\n",
              "            (d, i) =>\n",
              "                'class ' + i + ': ' + d3.format('.3%')(value.distribution[i]));\n",
              "\n",
              "    add_tooltip(options, distribution_plot, () => distribution_details.html());\n",
              "    add_tooltip(options, num_examples, () => 'Number of examples');\n",
              "\n",
              "    output.vertical_offset += 10;\n",
              "    return;\n",
              "  }\n",
              "\n",
              "  if (value.type === 'REGRESSION') {\n",
              "    display_node_text(\n",
              "        options,\n",
              "        'value: ' + d3.format('r')(value.value) + ` (` +\n",
              "            d3.format('.6')(value.num_examples) + `)`,\n",
              "        output);\n",
              "    return;\n",
              "  }\n",
              "\n",
              "  if (value.type === 'UPLIFT') {\n",
              "    display_node_text(\n",
              "        options,\n",
              "        'effect: ' + d3.format('r')(value.treatment_effect) + ` (` +\n",
              "            d3.format('.6')(value.num_examples) + `)`,\n",
              "        output);\n",
              "    return;\n",
              "  }\n",
              "\n",
              "  display_node_text(options, `Non supported value ${value.type}`, output);\n",
              "}\n",
              "\n",
              "/**\n",
              " * Adds an explanation inside of a node.\n",
              " * @param {!options} options Dictionary of configurations.\n",
              " * @param {!explanation} explanation Explanation to display.\n",
              " * @param {!output} output Output display accumulator.\n",
              " */\n",
              "function display_explanation(options, explanation, output) {\n",
              "  // Margin before the explanation.\n",
              "  output.vertical_offset += 10;\n",
              "\n",
              "  display_node_text(\n",
              "      options, `Non supported explanation ${explanation.type}`, output);\n",
              "}\n",
              "\n",
              "\n",
              "/**\n",
              " * Draw the edges of the tree.\n",
              " * @param {!options} options Dictionary of configurations.\n",
              " * @param {!graph} graph D3 search handle containing the graph.\n",
              " * @param {!tree_struct} tree_struct Structure of the tree (node placement,\n",
              " *     data, etc.).\n",
              " */\n",
              "function display_edges(options, graph, tree_struct) {\n",
              "  // Draw an edge between a parent and a child node with a bezier.\n",
              "  function draw_single_edge(d) {\n",
              "    return 'M' + (d.source.y + options.node_x_size) + ',' + d.source.x + ' C' +\n",
              "        (d.source.y + options.node_x_size + options.edge_rounding) + ',' +\n",
              "        d.source.x + ' ' + (d.target.y - options.edge_rounding) + ',' +\n",
              "        d.target.x + ' ' + d.target.y + ',' + d.target.x;\n",
              "  }\n",
              "\n",
              "  graph.append('g')\n",
              "      .attr('fill', 'none')\n",
              "      .attr('stroke-width', 1.2)\n",
              "      .selectAll('path')\n",
              "      .data(tree_struct.links())\n",
              "      .join('path')\n",
              "      .attr('d', draw_single_edge)\n",
              "      .attr(\n",
              "          'stroke', d => (d.target === d.source.children[0]) ? '#0F0' : '#F00');\n",
              "}\n",
              "\n",
              "display_tree({\"margin\": 10, \"node_x_size\": 160, \"node_y_size\": 28, \"node_x_offset\": 180, \"node_y_offset\": 33, \"font_size\": 10, \"edge_rounding\": 20, \"node_padding\": 2, \"show_plot_bounding_box\": false}, {\"value\": {\"type\": \"REGRESSION\", \"value\": 3364.730224609375, \"num_examples\": 1358.0, \"standard_deviation\": 6188.225973888051}, \"condition\": {\"type\": \"NUMERICAL_IS_HIGHER_THAN\", \"attribute\": \"DIEN_TICH_M2\", \"threshold\": 435.5}, \"children\": [{\"value\": {\"type\": \"REGRESSION\", \"value\": 84240.0, \"num_examples\": 5.0, \"standard_deviation\": 46436.08927547625}}, {\"value\": {\"type\": \"REGRESSION\", \"value\": 3065.856201171875, \"num_examples\": 1353.0, \"standard_deviation\": 2491.224399548052}, \"condition\": {\"type\": \"NUMERICAL_IS_HIGHER_THAN\", \"attribute\": \"DIEN_TICH_M2\", \"threshold\": 146.0}, \"children\": [{\"value\": {\"type\": \"REGRESSION\", \"value\": 11633.87109375, \"num_examples\": 31.0, \"standard_deviation\": 5931.482259081813}, \"condition\": {\"type\": \"CATEGORICAL_IS_IN\", \"attribute\": \"QUAN_HUYEN\", \"mask\": [\"Qu\\u1eadn 7\", \"Qu\\u1eadn 2\", \"Qu\\u1eadn Ph\\u00fa Nhu\\u1eadn\"]}, \"children\": [{\"value\": {\"type\": \"REGRESSION\", \"value\": 14536.111328125, \"num_examples\": 18.0, \"standard_deviation\": 5752.965553027498}, \"condition\": {\"type\": \"NUMERICAL_IS_HIGHER_THAN\", \"attribute\": \"DIEN_TICH_M2\", \"threshold\": 250.0}, \"children\": [{\"value\": {\"type\": \"REGRESSION\", \"value\": 17555.5546875, \"num_examples\": 9.0, \"standard_deviation\": 1165.3431646335039}}, {\"value\": {\"type\": \"REGRESSION\", \"value\": 11516.6669921875, \"num_examples\": 9.0, \"standard_deviation\": 6826.500649022975}}]}, {\"value\": {\"type\": \"REGRESSION\", \"value\": 7615.384765625, \"num_examples\": 13.0, \"standard_deviation\": 3203.086529210454}, \"condition\": {\"type\": \"CATEGORICAL_IS_IN\", \"attribute\": \"QUAN_HUYEN\", \"mask\": [\"<OOD>\", \"Qu\\u1eadn B\\u00ecnh Th\\u1ea1nh\"]}, \"children\": [{\"value\": {\"type\": \"REGRESSION\", \"value\": 9400.0, \"num_examples\": 8.0, \"standard_deviation\": 2843.8530201119747}}, {\"value\": {\"type\": \"REGRESSION\", \"value\": 4760.0, \"num_examples\": 5.0, \"standard_deviation\": 697.4238309665078}}]}]}, {\"value\": {\"type\": \"REGRESSION\", \"value\": 2864.942138671875, \"num_examples\": 1322.0, \"standard_deviation\": 1940.3410450465092}, \"condition\": {\"type\": \"NUMERICAL_IS_HIGHER_THAN\", \"attribute\": \"DIEN_TICH_M2\", \"threshold\": 76.5}, \"children\": [{\"value\": {\"type\": \"REGRESSION\", \"value\": 4276.1416015625, \"num_examples\": 389.0, \"standard_deviation\": 2583.6860664671804}, \"condition\": {\"type\": \"CATEGORICAL_IS_IN\", \"attribute\": \"QUAN_HUYEN\", \"mask\": [\"Qu\\u1eadn 2\", \"Qu\\u1eadn B\\u00ecnh Th\\u1ea1nh\", \"Qu\\u1eadn 4\", \"Qu\\u1eadn 10\", \"Qu\\u1eadn Ph\\u00fa Nhu\\u1eadn\", \"Qu\\u1eadn 1\"]}, \"children\": [{\"value\": {\"type\": \"REGRESSION\", \"value\": 6219.39892578125, \"num_examples\": 122.0, \"standard_deviation\": 3379.9142353931015}, \"condition\": {\"type\": \"CATEGORICAL_IS_IN\", \"attribute\": \"QUAN_HUYEN\", \"mask\": [\"Qu\\u1eadn Ph\\u00fa Nhu\\u1eadn\", \"Qu\\u1eadn 1\"]}, \"children\": [{\"value\": {\"type\": \"REGRESSION\", \"value\": 8366.4755859375, \"num_examples\": 25.0, \"standard_deviation\": 5689.056127135387}, \"condition\": {\"type\": \"NUMERICAL_IS_HIGHER_THAN\", \"attribute\": \"DIEN_TICH_M2\", \"threshold\": 84.30500030517578}, \"children\": [{\"value\": {\"type\": \"REGRESSION\", \"value\": 7415.8896484375, \"num_examples\": 19.0, \"standard_deviation\": 4776.5561799442485}, \"condition\": {\"type\": \"CATEGORICAL_IS_IN\", \"attribute\": \"QUAN_HUYEN\", \"mask\": [\"Qu\\u1eadn 1\"]}, \"children\": [{\"value\": {\"type\": \"REGRESSION\", \"value\": 10351.3798828125, \"num_examples\": 5.0, \"standard_deviation\": 8432.409423279294}}, {\"value\": {\"type\": \"REGRESSION\", \"value\": 6367.5, \"num_examples\": 14.0, \"standard_deviation\": 1179.9950514424095}, \"condition\": {\"type\": \"NUMERICAL_IS_HIGHER_THAN\", \"attribute\": \"DIEN_TICH_M2\", \"threshold\": 102.5}, \"children\": [{\"value\": {\"type\": \"REGRESSION\", \"value\": 6765.0, \"num_examples\": 9.0, \"standard_deviation\": 1289.366726558256}}, {\"value\": {\"type\": \"REGRESSION\", \"value\": 5652.0, \"num_examples\": 5.0, \"standard_deviation\": 331.50565606034536}}]}]}, {\"value\": {\"type\": \"REGRESSION\", \"value\": 11376.6669921875, \"num_examples\": 6.0, \"standard_deviation\": 7119.264162975146}}]}, {\"value\": {\"type\": \"REGRESSION\", \"value\": 5666.02880859375, \"num_examples\": 97.0, \"standard_deviation\": 2128.8891127205998}, \"condition\": {\"type\": \"CATEGORICAL_IS_IN\", \"attribute\": \"H\\u01af\\u1edaNG\", \"mask\": [\"T\\u00e2y\", \"Nam\", \"\\u0110\\u00f4ng B\\u1eafc\", \"T\\u00e2y Nam\"]}, \"children\": [{\"value\": {\"type\": \"REGRESSION\", \"value\": 7250.83349609375, \"num_examples\": 12.0, \"standard_deviation\": 2622.5987694566547}, \"condition\": {\"type\": \"NUMERICAL_IS_HIGHER_THAN\", \"attribute\": \"DIEN_TICH_M2\", \"threshold\": 93.0}, \"children\": [{\"value\": {\"type\": \"REGRESSION\", \"value\": 8676.6669921875, \"num_examples\": 6.0, \"standard_deviation\": 2649.261951730874}}, {\"value\": {\"type\": \"REGRESSION\", \"value\": 5825.0, \"num_examples\": 6.0, \"standard_deviation\": 1634.459645672947}}]}, {\"value\": {\"type\": \"REGRESSION\", \"value\": 5442.29150390625, \"num_examples\": 85.0, \"standard_deviation\": 1948.4227846512174}, \"condition\": {\"type\": \"NUMERICAL_IS_HIGHER_THAN\", \"attribute\": \"DIEN_TICH_M2\", \"threshold\": 79.05000305175781}, \"children\": [{\"value\": {\"type\": \"REGRESSION\", \"value\": 5237.02685546875, \"num_examples\": 74.0, \"standard_deviation\": 1866.8500205612504}, \"condition\": {\"type\": \"NUMERICAL_IS_HIGHER_THAN\", \"attribute\": \"DIEN_TICH_M2\", \"threshold\": 89.5}, \"children\": [{\"value\": {\"type\": \"REGRESSION\", \"value\": 5750.58837890625, \"num_examples\": 51.0, \"standard_deviation\": 1848.8347276210682}, \"condition\": {\"type\": \"CATEGORICAL_IS_IN\", \"attribute\": \"GIAY_TO_PHAP_LY\", \"mask\": [\"\\u0110ang ch\\u1edd s\\u1ed5\"]}}, {\"value\": {\"type\": \"REGRESSION\", \"value\": 4098.2607421875, \"num_examples\": 23.0, \"standard_deviation\": 1323.6105173019312}, \"condition\": {\"type\": \"CATEGORICAL_IS_IN\", \"attribute\": \"GIAY_TO_PHAP_LY\", \"mask\": [\"\\u0110ang ch\\u1edd s\\u1ed5\"]}}]}, {\"value\": {\"type\": \"REGRESSION\", \"value\": 6823.16259765625, \"num_examples\": 11.0, \"standard_deviation\": 1923.481388049056}, \"condition\": {\"type\": \"NUMERICAL_IS_HIGHER_THAN\", \"attribute\": \"DIEN_TICH_M2\", \"threshold\": 78.5}, \"children\": [{\"value\": {\"type\": \"REGRESSION\", \"value\": 6590.95751953125, \"num_examples\": 5.0}}, {\"value\": {\"type\": \"REGRESSION\", \"value\": 7016.66650390625, \"num_examples\": 6.0, \"standard_deviation\": 2588.5431338024005}}]}]}]}]}, {\"value\": {\"type\": \"REGRESSION\", \"value\": 3388.21142578125, \"num_examples\": 267.0, \"standard_deviation\": 1411.3332063715218}, \"condition\": {\"type\": \"NUMERICAL_IS_HIGHER_THAN\", \"attribute\": \"DIEN_TICH_M2\", \"threshold\": 122.0}, \"children\": [{\"value\": {\"type\": \"REGRESSION\", \"value\": 6359.25927734375, \"num_examples\": 9.0, \"standard_deviation\": 2263.043271111301}}, {\"value\": {\"type\": \"REGRESSION\", \"value\": 3284.570068359375, \"num_examples\": 258.0, \"standard_deviation\": 1250.6111442248475}, \"condition\": {\"type\": \"NUMERICAL_IS_HIGHER_THAN\", \"attribute\": \"SO_PHNG\", \"threshold\": 1.5}, \"children\": [{\"value\": {\"type\": \"REGRESSION\", \"value\": 3213.035888671875, \"num_examples\": 253.0, \"standard_deviation\": 1136.3294598168166}, \"condition\": {\"type\": \"CATEGORICAL_IS_IN\", \"attribute\": \"QUAN_HUYEN\", \"mask\": [\"Qu\\u1eadn 9\", \"Qu\\u1eadn 7\", \"Qu\\u1eadn T\\u00e2n Ph\\u00fa\", \"Qu\\u1eadn Th\\u1ee7 \\u0110\\u1ee9c\", \"Qu\\u1eadn T\\u00e2n B\\u00ecnh\", \"Qu\\u1eadn 6\", \"Qu\\u1eadn 3\", \"Qu\\u1eadn 11\"]}, \"children\": [{\"value\": {\"type\": \"REGRESSION\", \"value\": 3546.256591796875, \"num_examples\": 164.0, \"standard_deviation\": 1122.9072467853762}, \"condition\": {\"type\": \"CATEGORICAL_IS_IN\", \"attribute\": \"GIAY_TO_PHAP_LY\", \"mask\": [\"Gi\\u1ea5y t\\u1edd kh\\u00e1c\"]}, \"children\": [{\"value\": {\"type\": \"REGRESSION\", \"value\": 4979.1904296875, \"num_examples\": 11.0, \"standard_deviation\": 1044.6195931783768}, \"condition\": {\"type\": \"CATEGORICAL_IS_IN\", \"attribute\": \"H\\u01af\\u1edaNG\", \"mask\": [\"T\\u00e2y B\\u1eafc\", \"T\\u00e2y Nam\"]}}, {\"value\": {\"type\": \"REGRESSION\", \"value\": 3443.2353515625, \"num_examples\": 153.0, \"standard_deviation\": 1055.8808933665514}, \"condition\": {\"type\": \"NUMERICAL_IS_HIGHER_THAN\", \"attribute\": \"DIEN_TICH_M2\", \"threshold\": 90.75}}]}, {\"value\": {\"type\": \"REGRESSION\", \"value\": 2599.01123046875, \"num_examples\": 89.0, \"standard_deviation\": 874.9230784087135}, \"condition\": {\"type\": \"CATEGORICAL_IS_IN\", \"attribute\": \"H\\u01af\\u1edaNG\", \"mask\": [\"T\\u00e2y\", \"Nam\", \"B\\u1eafc\"]}, \"children\": [{\"value\": {\"type\": \"REGRESSION\", \"value\": 3662.5, \"num_examples\": 10.0, \"standard_deviation\": 1128.133968108398}, \"condition\": {\"type\": \"NUMERICAL_IS_HIGHER_THAN\", \"attribute\": \"SO_PHNG\", \"threshold\": 2.5}}, {\"value\": {\"type\": \"REGRESSION\", \"value\": 2464.392333984375, \"num_examples\": 79.0, \"standard_deviation\": 734.8472917693834}, \"condition\": {\"type\": \"CATEGORICAL_IS_IN\", \"attribute\": \"GIAY_TO_PHAP_LY\", \"mask\": [\"\\u0110ang ch\\u1edd s\\u1ed5\", \"Gi\\u1ea5y t\\u1edd kh\\u00e1c\"]}}]}]}, {\"value\": {\"type\": \"REGRESSION\", \"value\": 6904.2001953125, \"num_examples\": 5.0, \"standard_deviation\": 1416.4146144402773}}]}]}]}, {\"value\": {\"type\": \"REGRESSION\", \"value\": 2276.564208984375, \"num_examples\": 933.0, \"standard_deviation\": 1172.571379217288}, \"condition\": {\"type\": \"CATEGORICAL_IS_IN\", \"attribute\": \"QUAN_HUYEN\", \"mask\": [\"Qu\\u1eadn 2\", \"Qu\\u1eadn B\\u00ecnh Th\\u1ea1nh\", \"Qu\\u1eadn 4\", \"Qu\\u1eadn 10\", \"Qu\\u1eadn Ph\\u00fa Nhu\\u1eadn\", \"Qu\\u1eadn 1\", \"Qu\\u1eadn 5\"]}, \"children\": [{\"value\": {\"type\": \"REGRESSION\", \"value\": 3312.2724609375, \"num_examples\": 190.0, \"standard_deviation\": 1828.3098673062111}, \"condition\": {\"type\": \"NUMERICAL_IS_HIGHER_THAN\", \"attribute\": \"DIEN_TICH_M2\", \"threshold\": 63.5}, \"children\": [{\"value\": {\"type\": \"REGRESSION\", \"value\": 4107.60400390625, \"num_examples\": 94.0, \"standard_deviation\": 2152.26681994477}, \"condition\": {\"type\": \"CATEGORICAL_IS_IN\", \"attribute\": \"GIAY_TO_PHAP_LY\", \"mask\": [\"\\u0110ang ch\\u1edd s\\u1ed5\", \"Gi\\u1ea5y t\\u1edd kh\\u00e1c\"]}, \"children\": [{\"value\": {\"type\": \"REGRESSION\", \"value\": 5100.375, \"num_examples\": 32.0, \"standard_deviation\": 3099.8450339291157}, \"condition\": {\"type\": \"CATEGORICAL_IS_IN\", \"attribute\": \"QUAN_HUYEN\", \"mask\": [\"Qu\\u1eadn B\\u00ecnh Th\\u1ea1nh\", \"Qu\\u1eadn 1\"]}, \"children\": [{\"value\": {\"type\": \"REGRESSION\", \"value\": 8246.6669921875, \"num_examples\": 6.0, \"standard_deviation\": 5587.5655601423505}}, {\"value\": {\"type\": \"REGRESSION\", \"value\": 4374.3076171875, \"num_examples\": 26.0, \"standard_deviation\": 1345.3981043436913}, \"condition\": {\"type\": \"CATEGORICAL_IS_IN\", \"attribute\": \"H\\u01af\\u1edaNG\", \"mask\": [\"T\\u00e2y B\\u1eafc\", \"\\u0110\\u00f4ng B\\u1eafc\", \"T\\u00e2y Nam\"]}, \"children\": [{\"value\": {\"type\": \"REGRESSION\", \"value\": 6140.0, \"num_examples\": 5.0, \"standard_deviation\": 920.0}}, {\"value\": {\"type\": \"REGRESSION\", \"value\": 3953.90478515625, \"num_examples\": 21.0, \"standard_deviation\": 1058.5398705747327}, \"condition\": {\"type\": \"CATEGORICAL_IS_IN\", \"attribute\": \"QUAN_HUYEN\", \"mask\": [\"Qu\\u1eadn 4\", \"Qu\\u1eadn 10\", \"Qu\\u1eadn Ph\\u00fa Nhu\\u1eadn\"]}}]}]}, {\"value\": {\"type\": \"REGRESSION\", \"value\": 3595.2060546875, \"num_examples\": 62.0, \"standard_deviation\": 1136.812591287685}, \"condition\": {\"type\": \"CATEGORICAL_IS_IN\", \"attribute\": \"QUAN_HUYEN\", \"mask\": [\"Qu\\u1eadn 2\", \"Qu\\u1eadn 4\", \"Qu\\u1eadn 10\", \"Qu\\u1eadn Ph\\u00fa Nhu\\u1eadn\", \"Qu\\u1eadn 5\"]}, \"children\": [{\"value\": {\"type\": \"REGRESSION\", \"value\": 3830.97509765625, \"num_examples\": 49.0, \"standard_deviation\": 1120.1570059889398}, \"condition\": {\"type\": \"NUMERICAL_IS_HIGHER_THAN\", \"attribute\": \"SO_PHNG\", \"threshold\": 2.5}, \"children\": [{\"value\": {\"type\": \"REGRESSION\", \"value\": 2135.71435546875, \"num_examples\": 7.0, \"standard_deviation\": 102.51928638862606}}, {\"value\": {\"type\": \"REGRESSION\", \"value\": 4113.5185546875, \"num_examples\": 42.0, \"standard_deviation\": 950.4260489493912}, \"condition\": {\"type\": \"NUMERICAL_IS_HIGHER_THAN\", \"attribute\": \"DIEN_TICH_M2\", \"threshold\": 71.0}}]}, {\"value\": {\"type\": \"REGRESSION\", \"value\": 2706.53857421875, \"num_examples\": 13.0, \"standard_deviation\": 659.3802002795577}, \"condition\": {\"type\": \"NUMERICAL_IS_HIGHER_THAN\", \"attribute\": \"DIEN_TICH_M2\", \"threshold\": 69.0}, \"children\": [{\"value\": {\"type\": \"REGRESSION\", \"value\": 2172.5, \"num_examples\": 6.0, \"standard_deviation\": 540.1677980035463}}, {\"value\": {\"type\": \"REGRESSION\", \"value\": 3164.28564453125, \"num_examples\": 7.0, \"standard_deviation\": 321.5079267121977}}]}]}]}, {\"value\": {\"type\": \"REGRESSION\", \"value\": 2533.510498046875, \"num_examples\": 96.0, \"standard_deviation\": 924.2307048160792}, \"condition\": {\"type\": \"NUMERICAL_IS_HIGHER_THAN\", \"attribute\": \"SO_TOILETS\", \"threshold\": 1.5}, \"children\": [{\"value\": {\"type\": \"REGRESSION\", \"value\": 1919.25, \"num_examples\": 16.0, \"standard_deviation\": 605.8673018904387}, \"condition\": {\"type\": \"NUMERICAL_IS_HIGHER_THAN\", \"attribute\": \"DIEN_TICH_M2\", \"threshold\": 59.5}, \"children\": [{\"value\": {\"type\": \"REGRESSION\", \"value\": 2058.333251953125, \"num_examples\": 6.0, \"standard_deviation\": 194.69349130249827}}, {\"value\": {\"type\": \"REGRESSION\", \"value\": 1835.800048828125, \"num_examples\": 10.0, \"standard_deviation\": 738.9225669852018}, \"condition\": {\"type\": \"NUMERICAL_IS_HIGHER_THAN\", \"attribute\": \"DIEN_TICH_M2\", \"threshold\": 58.0}, \"children\": [{\"value\": {\"type\": \"REGRESSION\", \"value\": 1601.5999755859375, \"num_examples\": 5.0, \"standard_deviation\": 278.77202155166117}}, {\"value\": {\"type\": \"REGRESSION\", \"value\": 2070.0, \"num_examples\": 5.0, \"standard_deviation\": 951.1046209539727}}]}]}, {\"value\": {\"type\": \"REGRESSION\", \"value\": 2656.362548828125, \"num_examples\": 80.0, \"standard_deviation\": 927.9396699644595}, \"condition\": {\"type\": \"CATEGORICAL_IS_IN\", \"attribute\": \"GIAY_TO_PHAP_LY\", \"mask\": [\"\\u0110ang ch\\u1edd s\\u1ed5\"]}, \"children\": [{\"value\": {\"type\": \"REGRESSION\", \"value\": 3588.2353515625, \"num_examples\": 17.0, \"standard_deviation\": 1115.9972343109184}, \"condition\": {\"type\": \"NUMERICAL_IS_HIGHER_THAN\", \"attribute\": \"DIEN_TICH_M2\", \"threshold\": 54.0}, \"children\": [{\"value\": {\"type\": \"REGRESSION\", \"value\": 4514.28564453125, \"num_examples\": 7.0, \"standard_deviation\": 1062.9185850136164}}, {\"value\": {\"type\": \"REGRESSION\", \"value\": 2940.0, \"num_examples\": 10.0, \"standard_deviation\": 553.0822723609933}, \"condition\": {\"type\": \"NUMERICAL_IS_HIGHER_THAN\", \"attribute\": \"DIEN_TICH_M2\", \"threshold\": 45.71500015258789}}]}, {\"value\": {\"type\": \"REGRESSION\", \"value\": 2404.90478515625, \"num_examples\": 63.0, \"standard_deviation\": 678.0806880461449}, \"condition\": {\"type\": \"CATEGORICAL_IS_IN\", \"attribute\": \"QUAN_HUYEN\", \"mask\": [\"Qu\\u1eadn 1\"]}, \"children\": [{\"value\": {\"type\": \"REGRESSION\", \"value\": 3127.272705078125, \"num_examples\": 11.0, \"standard_deviation\": 485.4068754259083}}, {\"value\": {\"type\": \"REGRESSION\", \"value\": 2252.09619140625, \"num_examples\": 52.0, \"standard_deviation\": 611.1302976898115}, \"condition\": {\"type\": \"NUMERICAL_IS_HIGHER_THAN\", \"attribute\": \"DIEN_TICH_M2\", \"threshold\": 53.0}}]}]}]}]}, {\"value\": {\"type\": \"REGRESSION\", \"value\": 2011.712890625, \"num_examples\": 743.0, \"standard_deviation\": 726.1297583177516}, \"condition\": {\"type\": \"NUMERICAL_IS_HIGHER_THAN\", \"attribute\": \"DIEN_TICH_M2\", \"threshold\": 52.5}, \"children\": [{\"value\": {\"type\": \"REGRESSION\", \"value\": 2206.347900390625, \"num_examples\": 548.0, \"standard_deviation\": 660.9844022461127}, \"condition\": {\"type\": \"CATEGORICAL_IS_IN\", \"attribute\": \"QUAN_HUYEN\", \"mask\": [\"Qu\\u1eadn 7\", \"Qu\\u1eadn T\\u00e2n Ph\\u00fa\", \"Qu\\u1eadn T\\u00e2n B\\u00ecnh\", \"Qu\\u1eadn G\\u00f2 V\\u1ea5p\", \"Qu\\u1eadn 3\", \"Qu\\u1eadn 11\"]}, \"children\": [{\"value\": {\"type\": \"REGRESSION\", \"value\": 2600.53173828125, \"num_examples\": 173.0, \"standard_deviation\": 663.3244224749316}, \"condition\": {\"type\": \"NUMERICAL_IS_HIGHER_THAN\", \"attribute\": \"DIEN_TICH_M2\", \"threshold\": 58.43499755859375}, \"children\": [{\"value\": {\"type\": \"REGRESSION\", \"value\": 2710.82080078125, \"num_examples\": 134.0, \"standard_deviation\": 677.04551149683}, \"condition\": {\"type\": \"CATEGORICAL_IS_IN\", \"attribute\": \"H\\u01af\\u1edaNG\", \"mask\": [\"\\u0110\\u00f4ng\"]}, \"children\": [{\"value\": {\"type\": \"REGRESSION\", \"value\": 3306.25, \"num_examples\": 8.0, \"standard_deviation\": 428.2504378281475}}, {\"value\": {\"type\": \"REGRESSION\", \"value\": 2673.015869140625, \"num_examples\": 126.0, \"standard_deviation\": 672.2432711608673}, \"condition\": {\"type\": \"NUMERICAL_IS_HIGHER_THAN\", \"attribute\": \"DIEN_TICH_M2\", \"threshold\": 67.61000061035156}}]}, {\"value\": {\"type\": \"REGRESSION\", \"value\": 2221.58984375, \"num_examples\": 39.0, \"standard_deviation\": 437.51376347280683}, \"condition\": {\"type\": \"CATEGORICAL_IS_IN\", \"attribute\": \"H\\u01af\\u1edaNG\", \"mask\": [\"T\\u00e2y B\\u1eafc\", \"T\\u00e2y Nam\"]}, \"children\": [{\"value\": {\"type\": \"REGRESSION\", \"value\": 2551.666748046875, \"num_examples\": 6.0, \"standard_deviation\": 211.45658866275363}}, {\"value\": {\"type\": \"REGRESSION\", \"value\": 2161.57568359375, \"num_examples\": 33.0, \"standard_deviation\": 441.2265981640916}, \"condition\": {\"type\": \"CATEGORICAL_IS_IN\", \"attribute\": \"QUAN_HUYEN\", \"mask\": [\"Qu\\u1eadn T\\u00e2n B\\u00ecnh\"]}}]}]}, {\"value\": {\"type\": \"REGRESSION\", \"value\": 2024.497802734375, \"num_examples\": 375.0, \"standard_deviation\": 575.0816304443204}, \"condition\": {\"type\": \"NUMERICAL_IS_HIGHER_THAN\", \"attribute\": \"DIEN_TICH_M2\", \"threshold\": 66.7249984741211}, \"children\": [{\"value\": {\"type\": \"REGRESSION\", \"value\": 2232.071533203125, \"num_examples\": 149.0, \"standard_deviation\": 660.952002192762}, \"condition\": {\"type\": \"CATEGORICAL_IS_IN\", \"attribute\": \"H\\u01af\\u1edaNG\", \"mask\": [\"T\\u00e2y B\\u1eafc\", \"B\\u1eafc\", \"T\\u00e2y Nam\"]}, \"children\": [{\"value\": {\"type\": \"REGRESSION\", \"value\": 2632.125, \"num_examples\": 16.0, \"standard_deviation\": 343.7271583320119}, \"condition\": {\"type\": \"CATEGORICAL_IS_IN\", \"attribute\": \"QUAN_HUYEN\", \"mask\": [\"Qu\\u1eadn 8\", \"Qu\\u1eadn B\\u00ecnh T\\u00e2n\", \"Huy\\u1ec7n Nh\\u00e0 B\\u00e8\"]}}, {\"value\": {\"type\": \"REGRESSION\", \"value\": 2183.94482421875, \"num_examples\": 133.0, \"standard_deviation\": 673.5199077583299}, \"condition\": {\"type\": \"CATEGORICAL_IS_IN\", \"attribute\": \"QUAN_HUYEN\", \"mask\": [\"Qu\\u1eadn Th\\u1ee7 \\u0110\\u1ee9c\", \"Qu\\u1eadn 6\"]}}]}, {\"value\": {\"type\": \"REGRESSION\", \"value\": 1887.64599609375, \"num_examples\": 226.0, \"standard_deviation\": 462.1766398012202}, \"condition\": {\"type\": \"CATEGORICAL_IS_IN\", \"attribute\": \"H\\u01af\\u1edaNG\", \"mask\": [\"\\u0110\\u00f4ng Nam\", \"\\u0110\\u00f4ng\", \"T\\u00e2y B\\u1eafc\", \"T\\u00e2y\", \"\\u0110\\u00f4ng B\\u1eafc\", \"B\\u1eafc\", \"T\\u00e2y Nam\"]}, \"children\": [{\"value\": {\"type\": \"REGRESSION\", \"value\": 1900.9315185546875, \"num_examples\": 219.0, \"standard_deviation\": 457.25667967540403}, \"condition\": {\"type\": \"CATEGORICAL_IS_IN\", \"attribute\": \"QUAN_HUYEN\", \"mask\": [\"Qu\\u1eadn 9\", \"Qu\\u1eadn B\\u00ecnh T\\u00e2n\", \"Qu\\u1eadn 12\", \"Huy\\u1ec7n B\\u00ecnh Ch\\u00e1nh\", \"Huy\\u1ec7n Nh\\u00e0 B\\u00e8\", \"Qu\\u1eadn 6\"]}}, {\"value\": {\"type\": \"REGRESSION\", \"value\": 1472.0, \"num_examples\": 7.0, \"standard_deviation\": 420.53163631629104}}]}]}]}, {\"value\": {\"type\": \"REGRESSION\", \"value\": 1464.7384033203125, \"num_examples\": 195.0, \"standard_deviation\": 612.8369660702987}, \"condition\": {\"type\": \"NUMERICAL_IS_HIGHER_THAN\", \"attribute\": \"SO_PHNG\", \"threshold\": 2.5}, \"children\": [{\"value\": {\"type\": \"REGRESSION\", \"value\": 3580.0, \"num_examples\": 5.0, \"standard_deviation\": 1126.765281680262}}, {\"value\": {\"type\": \"REGRESSION\", \"value\": 1409.07373046875, \"num_examples\": 190.0, \"standard_deviation\": 480.830416370969}, \"condition\": {\"type\": \"NUMERICAL_IS_HIGHER_THAN\", \"attribute\": \"DIEN_TICH_M2\", \"threshold\": 45.5}, \"children\": [{\"value\": {\"type\": \"REGRESSION\", \"value\": 1624.89013671875, \"num_examples\": 91.0, \"standard_deviation\": 344.6660256579475}, \"condition\": {\"type\": \"CATEGORICAL_IS_IN\", \"attribute\": \"GIAY_TO_PHAP_LY\", \"mask\": [\"\\u0110\\u00e3 c\\u00f3 s\\u1ed5\", \"Gi\\u1ea5y t\\u1edd kh\\u00e1c\"]}, \"children\": [{\"value\": {\"type\": \"REGRESSION\", \"value\": 1699.0350341796875, \"num_examples\": 57.0, \"standard_deviation\": 258.01101329086305}, \"condition\": {\"type\": \"CATEGORICAL_IS_IN\", \"attribute\": \"QUAN_HUYEN\", \"mask\": [\"Qu\\u1eadn 7\", \"Qu\\u1eadn 12\", \"Qu\\u1eadn T\\u00e2n B\\u00ecnh\", \"Qu\\u1eadn 3\"]}}, {\"value\": {\"type\": \"REGRESSION\", \"value\": 1500.5882568359375, \"num_examples\": 34.0, \"standard_deviation\": 426.24055053504173}, \"condition\": {\"type\": \"NUMERICAL_IS_HIGHER_THAN\", \"attribute\": \"DIEN_TICH_M2\", \"threshold\": 51.349998474121094}}]}, {\"value\": {\"type\": \"REGRESSION\", \"value\": 1210.697021484375, \"num_examples\": 99.0, \"standard_deviation\": 502.34624170632935}, \"condition\": {\"type\": \"CATEGORICAL_IS_IN\", \"attribute\": \"QUAN_HUYEN\", \"mask\": [\"Qu\\u1eadn 9\", \"Qu\\u1eadn 7\", \"Qu\\u1eadn T\\u00e2n Ph\\u00fa\", \"Qu\\u1eadn 8\", \"Qu\\u1eadn Th\\u1ee7 \\u0110\\u1ee9c\", \"Qu\\u1eadn B\\u00ecnh T\\u00e2n\", \"Qu\\u1eadn T\\u00e2n B\\u00ecnh\", \"Qu\\u1eadn 3\", \"Qu\\u1eadn 11\"]}, \"children\": [{\"value\": {\"type\": \"REGRESSION\", \"value\": 1288.3214111328125, \"num_examples\": 84.0, \"standard_deviation\": 487.003646234377}, \"condition\": {\"type\": \"NUMERICAL_IS_HIGHER_THAN\", \"attribute\": \"SO_TOILETS\", \"threshold\": 1.368003010749817}}, {\"value\": {\"type\": \"REGRESSION\", \"value\": 776.0, \"num_examples\": 15.0, \"standard_deviation\": 338.60104351089444}, \"condition\": {\"type\": \"CATEGORICAL_IS_IN\", \"attribute\": \"GIAY_TO_PHAP_LY\", \"mask\": [\"\\u0110ang ch\\u1edd s\\u1ed5\"]}}]}]}]}]}]}]}]}]}, \"#tree_plot_5330545195e4488496b7ec518863499d\")\n",
              "</script>\n"
            ]
          },
          "metadata": {},
          "execution_count": 89
        }
      ]
    },
    {
      "cell_type": "code",
      "source": [
        "import matplotlib.pyplot as plt\n",
        "logs = rf.make_inspector().training_logs()\n",
        "plt.plot([log.num_trees for log in logs], [log.evaluation.rmse for log in logs])\n",
        "plt.xlabel(\"Number of trees\")\n",
        "plt.ylabel(\"RMSE (out-of-bag)\")\n",
        "plt.show()"
      ],
      "metadata": {
        "colab": {
          "base_uri": "https://localhost:8080/",
          "height": 449
        },
        "id": "RwoZj5u5IsUz",
        "outputId": "96b6f995-e2c1-4417-9fa2-d8070f112b77"
      },
      "execution_count": null,
      "outputs": [
        {
          "output_type": "display_data",
          "data": {
            "text/plain": [
              "<Figure size 640x480 with 1 Axes>"
            ],
            "image/png": "[encoded data removed]"
          },
          "metadata": {}
        }
      ]
    },
    {
      "cell_type": "code",
      "source": [
        "inspector = rf.make_inspector()\n",
        "inspector.evaluation()"
      ],
      "metadata": {
        "colab": {
          "base_uri": "https://localhost:8080/"
        },
        "id": "Yf28l8IAJIfa",
        "outputId": "5b1092fa-d112-4b3c-b81e-921a5ee33b52"
      },
      "execution_count": null,
      "outputs": [
        {
          "output_type": "execute_result",
          "data": {
            "text/plain": [
              "Evaluation(num_examples=1358, accuracy=None, loss=None, rmse=4576.753607658075, ndcg=None, aucs=None, auuc=None, qini=None)"
            ]
          },
          "metadata": {},
          "execution_count": 91
        }
      ]
    },
    {
      "cell_type": "code",
      "source": [
        "evaluation = rf.evaluate(x=valid_ds,return_dict=True)\n",
        "\n",
        "for name, value in evaluation.items():\n",
        "  print(f\"{name}: {value:.4f}\")"
      ],
      "metadata": {
        "colab": {
          "base_uri": "https://localhost:8080/"
        },
        "id": "prTtlOJSJLGM",
        "outputId": "dd22735b-58db-4785-dae3-09e230f14988"
      },
      "execution_count": null,
      "outputs": [
        {
          "output_type": "stream",
          "name": "stdout",
          "text": [
            "1/1 [==============================] - 0s 203ms/step - loss: 0.0000e+00 - mse: 6726828.0000\n",
            "loss: 0.0000\n",
            "mse: 6726828.0000\n"
          ]
        }
      ]
    },
    {
      "cell_type": "code",
      "source": [
        "print(f\"Available variable importances:\")\n",
        "for importance in inspector.variable_importances().keys():\n",
        "  print(\"\\t\", importance)"
      ],
      "metadata": {
        "colab": {
          "base_uri": "https://localhost:8080/"
        },
        "id": "sxvNZZ-CKM3M",
        "outputId": "ceb4f666-24ba-472c-e1d0-6a0529cbfdbe"
      },
      "execution_count": null,
      "outputs": [
        {
          "output_type": "stream",
          "name": "stdout",
          "text": [
            "Available variable importances:\n",
            "\t SUM_SCORE\n",
            "\t NUM_NODES\n",
            "\t INV_MEAN_MIN_DEPTH\n",
            "\t NUM_AS_ROOT\n"
          ]
        }
      ]
    },
    {
      "cell_type": "code",
      "source": [
        "inspector.variable_importances()[\"NUM_AS_ROOT\"]"
      ],
      "metadata": {
        "colab": {
          "base_uri": "https://localhost:8080/"
        },
        "id": "ZEVXteGaKQeB",
        "outputId": "99d2d14b-35af-42f0-c170-15e5bf0f5b0c"
      },
      "execution_count": null,
      "outputs": [
        {
          "output_type": "execute_result",
          "data": {
            "text/plain": [
              "[(\"DIEN_TICH_M2\" (1; #0), 202.0),\n",
              " (\"SO_PHNG\" (1; #6), 75.0),\n",
              " (\"QUAN_HUYEN\" (4; #5), 21.0),\n",
              " (\"SO_TOILETS\" (1; #8), 2.0)]"
            ]
          },
          "metadata": {},
          "execution_count": 94
        }
      ]
    },
    {
      "cell_type": "code",
      "source": [
        "plt.figure(figsize=(12, 4))\n",
        "\n",
        "# Mean decrease in AUC of the class 1 vs the others.\n",
        "variable_importance_metric = \"NUM_AS_ROOT\"\n",
        "variable_importances = inspector.variable_importances()[variable_importance_metric]\n",
        "\n",
        "# Extract the feature name and importance values.\n",
        "#\n",
        "# `variable_importances` is a list of <feature, importance> tuples.\n",
        "feature_names = [vi[0].name for vi in variable_importances]\n",
        "feature_importances = [vi[1] for vi in variable_importances]\n",
        "# The feature are ordered in decreasing importance value.\n",
        "feature_ranks = range(len(feature_names))\n",
        "\n",
        "bar = plt.barh(feature_ranks, feature_importances, label=[str(x) for x in feature_ranks])\n",
        "plt.yticks(feature_ranks, feature_names)\n",
        "plt.gca().invert_yaxis()\n",
        "\n",
        "# TODO: Replace with \"plt.bar_label()\" when available.\n",
        "# Label each bar with values\n",
        "for importance, patch in zip(feature_importances, bar.patches):\n",
        "  plt.text(patch.get_x() + patch.get_width(), patch.get_y(), f\"{importance:.4f}\", va=\"top\")\n",
        "\n",
        "plt.xlabel(variable_importance_metric)\n",
        "plt.title(\"NUM AS ROOT of the class 1 vs the others\")\n",
        "plt.tight_layout()\n",
        "plt.show()"
      ],
      "metadata": {
        "colab": {
          "base_uri": "https://localhost:8080/",
          "height": 407
        },
        "id": "D4yjSVTgKULf",
        "outputId": "1fc1d26b-265d-4bc1-82bc-ddb22a499eeb"
      },
      "execution_count": null,
      "outputs": [
        {
          "output_type": "display_data",
          "data": {
            "text/plain": [
              "<Figure size 1200x400 with 1 Axes>"
            ],
            "image/png": "[encoded data removed]"
          },
          "metadata": {}
        }
      ]
    },
    {
      "cell_type": "code",
      "source": [
        "\n",
        "\n",
        "\n",
        "test_ds = tfdf.keras.pd_dataframe_to_tf_dataset(\n",
        "    dataset_df,\n",
        "    task = tfdf.keras.Task.REGRESSION)\n",
        "\n"
      ],
      "metadata": {
        "id": "3OPgczj5SvnH"
      },
      "execution_count": null,
      "outputs": []
    },
    {
      "cell_type": "code",
      "source": [
        "test_ds"
      ],
      "metadata": {
        "colab": {
          "base_uri": "https://localhost:8080/"
        },
        "id": "2vO08XUfha3b",
        "outputId": "b50034be-41ea-4f8f-f462-6472bfc1e384"
      },
      "execution_count": null,
      "outputs": [
        {
          "output_type": "execute_result",
          "data": {
            "text/plain": [
              "<_PrefetchDataset element_spec={'LOAI': TensorSpec(shape=(None,), dtype=tf.string, name=None), 'NHU_CAU': TensorSpec(shape=(None,), dtype=tf.string, name=None), 'TINH_THANH': TensorSpec(shape=(None,), dtype=tf.string, name=None), 'QUAN_HUYEN': TensorSpec(shape=(None,), dtype=tf.string, name=None), 'GIA_TRIEU_DONG': TensorSpec(shape=(None,), dtype=tf.float64, name=None), 'DIEN_TICH_M2': TensorSpec(shape=(None,), dtype=tf.float64, name=None), 'HƯỚNG': TensorSpec(shape=(None,), dtype=tf.string, name=None), 'SO_TANG': TensorSpec(shape=(None,), dtype=tf.float64, name=None), 'SO_PHNG': TensorSpec(shape=(None,), dtype=tf.float64, name=None), 'SO_TOILETS': TensorSpec(shape=(None,), dtype=tf.float64, name=None), 'GIAY_TO_PHAP_LY': TensorSpec(shape=(None,), dtype=tf.string, name=None)}>"
            ]
          },
          "metadata": {},
          "execution_count": 116
        }
      ]
    },
    {
      "cell_type": "code",
      "source": [
        "preds = rf.predict(test_ds)"
      ],
      "metadata": {
        "colab": {
          "base_uri": "https://localhost:8080/"
        },
        "id": "zvT9RgU_RCdN",
        "outputId": "39974b0f-9dee-470d-fcbb-b8ba3d199f63"
      },
      "execution_count": null,
      "outputs": [
        {
          "output_type": "stream",
          "name": "stderr",
          "text": [
            "WARNING:absl:Registering feature \"SO_TANG\" not used by the model.\n"
          ]
        },
        {
          "output_type": "stream",
          "name": "stdout",
          "text": [
            "2/2 [==============================] - 0s 48ms/step\n"
          ]
        }
      ]
    },
    {
      "cell_type": "code",
      "source": [
        "sample_submission_df = pd.read_csv('/content/gdrive/MyDrive/GiaChungCu_HCM_June2021_laydulieu_com.csv')\n",
        "sample_submission_df['Giá dự đoán'] = rf.predict(test_ds)\n"
      ],
      "metadata": {
        "colab": {
          "base_uri": "https://localhost:8080/",
          "height": 193
        },
        "id": "2fXrX09SMZFw",
        "outputId": "61c97713-2e52-4242-d6ec-3e68a09a0bf7"
      },
      "execution_count": 1,
      "outputs": [
        {
          "output_type": "error",
          "ename": "NameError",
          "evalue": "ignored",
          "traceback": [
            "\u001b[0;31m---------------------------------------------------------------------------\u001b[0m",
            "\u001b[0;31mNameError\u001b[0m                                 Traceback (most recent call last)",
            "\u001b[0;32m<ipython-input-1-2c83d08e0145>\u001b[0m in \u001b[0;36m<cell line: 1>\u001b[0;34m()\u001b[0m\n\u001b[0;32m----> 1\u001b[0;31m \u001b[0msample_submission_df\u001b[0m \u001b[0;34m=\u001b[0m \u001b[0mpd\u001b[0m\u001b[0;34m.\u001b[0m\u001b[0mread_csv\u001b[0m\u001b[0;34m(\u001b[0m\u001b[0;34m'/content/gdrive/MyDrive/GiaChungCu_HCM_June2021_laydulieu_com.csv'\u001b[0m\u001b[0;34m)\u001b[0m\u001b[0;34m\u001b[0m\u001b[0;34m\u001b[0m\u001b[0m\n\u001b[0m\u001b[1;32m      2\u001b[0m \u001b[0msample_submission_df\u001b[0m\u001b[0;34m[\u001b[0m\u001b[0;34m'Giá dự đoán'\u001b[0m\u001b[0;34m]\u001b[0m \u001b[0;34m=\u001b[0m \u001b[0mrf\u001b[0m\u001b[0;34m.\u001b[0m\u001b[0mpredict\u001b[0m\u001b[0;34m(\u001b[0m\u001b[0mtest_ds\u001b[0m\u001b[0;34m)\u001b[0m\u001b[0;34m\u001b[0m\u001b[0;34m\u001b[0m\u001b[0m\n",
            "\u001b[0;31mNameError\u001b[0m: name 'pd' is not defined"
          ]
        }
      ]
    },
    {
      "cell_type": "code",
      "source": [
        "sample_submission_df.head()"
      ],
      "metadata": {
        "id": "5Vy8EfYoNIuM"
      },
      "execution_count": null,
      "outputs": []
    }
  ],
  "metadata": {
    "colab": {
      "provenance": []
    },
    "kernelspec": {
      "display_name": "Python 3",
      "name": "python3"
    },
    "language_info": {
      "name": "python"
    }
  },
  "nbformat": 4,
  "nbformat_minor": 0
}